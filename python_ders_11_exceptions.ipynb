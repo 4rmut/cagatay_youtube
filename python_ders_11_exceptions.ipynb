{
  "nbformat": 4,
  "nbformat_minor": 0,
  "metadata": {
    "colab": {
      "name": "python_ders_11_exceptions.ipynb",
      "provenance": []
    },
    "kernelspec": {
      "name": "python3",
      "display_name": "Python 3"
    }
  },
  "cells": [
    {
      "cell_type": "code",
      "metadata": {
        "id": "qoxNskhTbIxV",
        "colab_type": "code",
        "colab": {}
      },
      "source": [
        "#@title Hatalı bir fonksiyon tanımlıyoruz\n",
        "def fonksiyon(sayi):\n",
        "  return sayi/0"
      ],
      "execution_count": 0,
      "outputs": []
    },
    {
      "cell_type": "code",
      "metadata": {
        "id": "l5iCnTOntUH1",
        "colab_type": "code",
        "outputId": "8297674f-c7e0-40e9-f1bf-2c4d0661469c",
        "colab": {
          "base_uri": "https://localhost:8080/",
          "height": 342
        }
      },
      "source": [
        "#@title Programımız ile işlemler yapıyoruz\n",
        "sayi = int(input(\"Bir sayi girin\"))\n",
        "\n",
        "sayi = sayi**sayi\n",
        "\n",
        "sayi = fonksiyon(sayi) # sorun cikacak demedi demeyin \n",
        "\n",
        "sayi = sayi/sayi\n"
      ],
      "execution_count": 0,
      "outputs": [
        {
          "output_type": "stream",
          "text": [
            "Bir sayi girin10\n"
          ],
          "name": "stdout"
        },
        {
          "output_type": "error",
          "ename": "ZeroDivisionError",
          "evalue": "ignored",
          "traceback": [
            "\u001b[0;31m---------------------------------------------------------------------------\u001b[0m",
            "\u001b[0;31mZeroDivisionError\u001b[0m                         Traceback (most recent call last)",
            "\u001b[0;32m<ipython-input-4-918f63c97909>\u001b[0m in \u001b[0;36m<module>\u001b[0;34m()\u001b[0m\n\u001b[1;32m      3\u001b[0m \u001b[0msayi\u001b[0m \u001b[0;34m=\u001b[0m \u001b[0msayi\u001b[0m\u001b[0;34m**\u001b[0m\u001b[0msayi\u001b[0m\u001b[0;34m\u001b[0m\u001b[0;34m\u001b[0m\u001b[0m\n\u001b[1;32m      4\u001b[0m \u001b[0;34m\u001b[0m\u001b[0m\n\u001b[0;32m----> 5\u001b[0;31m \u001b[0msayi\u001b[0m \u001b[0;34m=\u001b[0m \u001b[0mfonksiyon\u001b[0m\u001b[0;34m(\u001b[0m\u001b[0msayi\u001b[0m\u001b[0;34m)\u001b[0m \u001b[0;31m# sorun cikacak demedi demeyin\u001b[0m\u001b[0;34m\u001b[0m\u001b[0;34m\u001b[0m\u001b[0m\n\u001b[0m\u001b[1;32m      6\u001b[0m \u001b[0;34m\u001b[0m\u001b[0m\n\u001b[1;32m      7\u001b[0m \u001b[0msayi\u001b[0m \u001b[0;34m=\u001b[0m \u001b[0msayi\u001b[0m\u001b[0;34m/\u001b[0m\u001b[0msayi\u001b[0m\u001b[0;34m\u001b[0m\u001b[0;34m\u001b[0m\u001b[0m\n",
            "\u001b[0;32m<ipython-input-3-24a367c9a300>\u001b[0m in \u001b[0;36mfonksiyon\u001b[0;34m(sayi)\u001b[0m\n\u001b[1;32m      1\u001b[0m \u001b[0;32mdef\u001b[0m \u001b[0mfonksiyon\u001b[0m\u001b[0;34m(\u001b[0m\u001b[0msayi\u001b[0m\u001b[0;34m)\u001b[0m\u001b[0;34m:\u001b[0m\u001b[0;34m\u001b[0m\u001b[0;34m\u001b[0m\u001b[0m\n\u001b[0;32m----> 2\u001b[0;31m   \u001b[0;32mreturn\u001b[0m \u001b[0msayi\u001b[0m\u001b[0;34m/\u001b[0m\u001b[0;36m0\u001b[0m\u001b[0;34m\u001b[0m\u001b[0;34m\u001b[0m\u001b[0m\n\u001b[0m",
            "\u001b[0;31mZeroDivisionError\u001b[0m: division by zero"
          ]
        }
      ]
    },
    {
      "cell_type": "code",
      "metadata": {
        "id": "ul7aHEa1uXrb",
        "colab_type": "code",
        "outputId": "77d552fb-aa98-4e11-9f86-25d2a98fdd11",
        "colab": {
          "base_uri": "https://localhost:8080/",
          "height": 73
        }
      },
      "source": [
        "#@title Çözüm: Try except\n",
        "\n",
        "sayi = int(input(\"Bir sayi girin\"))\n",
        "\n",
        "sayi = sayi**sayi\n",
        "\n",
        "try: # Su icerideki kod bir dene bakalım\n",
        "    sayi = fonksiyon(sayi) # sorun cikmayacak demedi demeyin \n",
        "except: # Yukarisi calismazsa burayi calistir\n",
        "    print('Hata oldu ama ben devam ediyorum') \n",
        "\n",
        "sayi = sayi/sayi\n",
        "\n",
        "print(sayi)"
      ],
      "execution_count": 0,
      "outputs": [
        {
          "output_type": "stream",
          "text": [
            "Bir sayi girin10\n",
            "Hata oldu ama ben devam ediyorum\n",
            "1.0\n"
          ],
          "name": "stdout"
        }
      ]
    },
    {
      "cell_type": "code",
      "metadata": {
        "id": "udXkPt0vvZWl",
        "colab_type": "code",
        "outputId": "737b9aea-0fcd-4ef1-eae0-f9e5bc42b489",
        "colab": {
          "base_uri": "https://localhost:8080/",
          "height": 73
        }
      },
      "source": [
        "#@title Çözüm: Try except\n",
        "\n",
        "sayi = int(input(\"Bir sayi girin\"))\n",
        "\n",
        "sayi = sayi**sayi\n",
        "\n",
        "try: # Su icerideki kod bir dene bakalım\n",
        "    sayi = fonksiyon(sayi) # sorun cikmayacak demedi demeyin \n",
        "except Exception as e: # Yukarisi calismazsa burayi calistir\n",
        "    print(e) \n",
        "\n",
        "sayi = sayi/sayi\n",
        "\n",
        "print(sayi)"
      ],
      "execution_count": 0,
      "outputs": [
        {
          "output_type": "stream",
          "text": [
            "Bir sayi girin10\n",
            "division by zero\n",
            "1.0\n"
          ],
          "name": "stdout"
        }
      ]
    },
    {
      "cell_type": "code",
      "metadata": {
        "id": "MQWjyruiyLVv",
        "colab_type": "code",
        "cellView": "both",
        "outputId": "5c5ef907-5894-4558-e76c-6ae480e01053",
        "colab": {
          "base_uri": "https://localhost:8080/",
          "height": 92
        }
      },
      "source": [
        "#@title Belki ben farklı exceptionlar için başka davranmasını istiyorum.\n",
        "\n",
        "sayi = int(input(\"Bir sayi girin\"))\n",
        "\n",
        "sayi = sayi**sayi\n",
        "\n",
        "try: # Su icerideki kod bir dene bakalım\n",
        "    sayi = fonksiyon(sayi) # sorun cikmayacak demedi demeyin \n",
        "except IndexError as e: # Yukarisi calismazsa burayi calistir\n",
        "    print('1. error')\n",
        "    print(e) \n",
        "except ZeroDivisionError as e: # Yukarisi calismazsa burayi calistir\n",
        "    print('2. error') \n",
        "    print(e) \n",
        "\n",
        "sayi = sayi/sayi\n",
        "\n",
        "print(sayi)"
      ],
      "execution_count": 0,
      "outputs": [
        {
          "output_type": "stream",
          "text": [
            "Bir sayi girin10\n",
            "2. error\n",
            "division by zero\n",
            "1.0\n"
          ],
          "name": "stdout"
        }
      ]
    },
    {
      "cell_type": "code",
      "metadata": {
        "id": "cdJoJsATygZf",
        "colab_type": "code",
        "outputId": "7c79261c-fa12-41cc-af90-42977dc7f9bf",
        "colab": {
          "base_uri": "https://localhost:8080/",
          "height": 54
        }
      },
      "source": [
        "#@title Belki ben farklı exceptionlar için başka davranmasını istiyorum.\n",
        "\n",
        "liste = [1, 2, 3, 4, 5]\n",
        "\n",
        "try: # Su icerideki kod bir dene bakalım\n",
        "    a = liste[5] # sorun cikmayacak demedi demeyin \n",
        "except IndexError as e: # Yukarisi calismazsa burayi calistir\n",
        "    print('1. error')\n",
        "    print(e) \n",
        "except ZeroDivisionError as e: # Yukarisi calismazsa burayi calistir\n",
        "    print('2. error')\n",
        "    print(e) \n"
      ],
      "execution_count": 0,
      "outputs": [
        {
          "output_type": "stream",
          "text": [
            "1. error\n",
            "list index out of range\n"
          ],
          "name": "stdout"
        }
      ]
    },
    {
      "cell_type": "markdown",
      "metadata": {
        "id": "T79IFWegvUQ4",
        "colab_type": "text"
      },
      "source": [
        "Halihazırda Python tarafından sunulan exceptionlar: https://docs.python.org/3/library/exceptions.html"
      ]
    },
    {
      "cell_type": "code",
      "metadata": {
        "id": "ZZQF_ACyy3bb",
        "colab_type": "code",
        "outputId": "0714a87a-ee23-4f5b-bc9c-85f152c82086",
        "colab": {
          "base_uri": "https://localhost:8080/",
          "height": 73
        }
      },
      "source": [
        "#@title Ne olursa olsun çalıştırmamız gereken bir blok varsa? \n",
        "\n",
        "try:\n",
        "    f = open('a.txt', 'w')     \n",
        "    try:\n",
        "        f.read()\n",
        "    except Exception as e:\n",
        "        print(e)\n",
        "        print('Hata oldu da dosya kapanmadı')\n",
        "    finally: \n",
        "        print('Oh şimdi kapandı')\n",
        "        f.close()\n",
        "except IOError:\n",
        "    print('Dosya açılamadı')"
      ],
      "execution_count": 0,
      "outputs": [
        {
          "output_type": "stream",
          "text": [
            "not readable\n",
            "Hata oldu da dosya kapanmadı\n",
            "Oh şimdi kapandı\n"
          ],
          "name": "stdout"
        }
      ]
    },
    {
      "cell_type": "code",
      "metadata": {
        "id": "8THxKco7ulK-",
        "colab_type": "code",
        "colab": {}
      },
      "source": [
        "#@title Kendimiz bir hata mesaj yazmak istesek? ve bunu döndürsek. \n",
        "\n",
        "def fonksiyon(sayi):\n",
        "    if sayi == 0:\n",
        "      raise ZeroDivisionError('Sifira boldun ya')\n",
        "\n",
        "    print('Burayi goremeyecegiz')\n",
        "    sayi = 23/sayi\n",
        "\n",
        "    return sayi \n",
        "\n"
      ],
      "execution_count": 0,
      "outputs": []
    },
    {
      "cell_type": "code",
      "metadata": {
        "id": "nryW_Rme3aA_",
        "colab_type": "code",
        "outputId": "08f9a1ed-79bb-4791-9ee5-e956699dfe29",
        "colab": {
          "base_uri": "https://localhost:8080/",
          "height": 36
        }
      },
      "source": [
        "try:\n",
        "    fonksiyon(0)\n",
        "\n",
        "except Exception as e: \n",
        "    print(e)"
      ],
      "execution_count": 0,
      "outputs": [
        {
          "output_type": "stream",
          "text": [
            "Sifira boldun ya\n"
          ],
          "name": "stdout"
        }
      ]
    },
    {
      "cell_type": "code",
      "metadata": {
        "id": "_G7Hu6lR4awR",
        "colab_type": "code",
        "outputId": "515ded8b-d063-48e7-e419-98a33e0a607f",
        "colab": {
          "base_uri": "https://localhost:8080/",
          "height": 230
        }
      },
      "source": [
        "#@title Peki ya kendi tanımladığımız exceptionlar?\n",
        "\n",
        "class NickError(Exception):\n",
        "    pass \n",
        "\n",
        "\n",
        "isim = input('Nick: ')\n",
        "\n",
        "if isim == 'cagbal':\n",
        "    raise NickError('Bu Nick sadece bende olabilir :(')"
      ],
      "execution_count": 0,
      "outputs": [
        {
          "output_type": "stream",
          "text": [
            "Nick: cagbal\n"
          ],
          "name": "stdout"
        },
        {
          "output_type": "error",
          "ename": "NickError",
          "evalue": "ignored",
          "traceback": [
            "\u001b[0;31m---------------------------------------------------------------------------\u001b[0m",
            "\u001b[0;31mNickError\u001b[0m                                 Traceback (most recent call last)",
            "\u001b[0;32m<ipython-input-17-1b8dd9c018e8>\u001b[0m in \u001b[0;36m<module>\u001b[0;34m()\u001b[0m\n\u001b[1;32m      7\u001b[0m \u001b[0;34m\u001b[0m\u001b[0m\n\u001b[1;32m      8\u001b[0m \u001b[0;32mif\u001b[0m \u001b[0misim\u001b[0m \u001b[0;34m==\u001b[0m \u001b[0;34m'cagbal'\u001b[0m\u001b[0;34m:\u001b[0m\u001b[0;34m\u001b[0m\u001b[0;34m\u001b[0m\u001b[0m\n\u001b[0;32m----> 9\u001b[0;31m     \u001b[0;32mraise\u001b[0m \u001b[0mNickError\u001b[0m\u001b[0;34m(\u001b[0m\u001b[0;34m'Bu Nick sadece bende olabilir :('\u001b[0m\u001b[0;34m)\u001b[0m\u001b[0;34m\u001b[0m\u001b[0;34m\u001b[0m\u001b[0m\n\u001b[0m",
            "\u001b[0;31mNickError\u001b[0m: Bu Nick sadece bende olabilir :("
          ]
        }
      ]
    }
  ]
}