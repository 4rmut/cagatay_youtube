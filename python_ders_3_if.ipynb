{
  "nbformat": 4,
  "nbformat_minor": 0,
  "metadata": {
    "colab": {
      "name": "python_ders_3_if.ipynb",
      "provenance": [],
      "collapsed_sections": []
    },
    "kernelspec": {
      "name": "python3",
      "display_name": "Python 3"
    }
  },
  "cells": [
    {
      "cell_type": "markdown",
      "metadata": {
        "id": "MTrFgGW9eR_1",
        "colab_type": "text"
      },
      "source": [
        "**BOOLEAN**"
      ]
    },
    {
      "cell_type": "code",
      "metadata": {
        "id": "5LcKTRowwbJE",
        "colab_type": "code",
        "outputId": "e13bf525-00f7-421b-fdc6-f090093ffd29",
        "colab": {
          "base_uri": "https://localhost:8080/",
          "height": 36
        }
      },
      "source": [
        "a = True \n",
        "b = False \n",
        "\n",
        "print(type(a))"
      ],
      "execution_count": 0,
      "outputs": [
        {
          "output_type": "stream",
          "text": [
            "<class 'bool'>\n"
          ],
          "name": "stdout"
        }
      ]
    },
    {
      "cell_type": "code",
      "metadata": {
        "id": "v_PbhjSBwocX",
        "colab_type": "code",
        "outputId": "2f4378a7-7bab-477b-e694-dc0e8c10d8be",
        "colab": {
          "base_uri": "https://localhost:8080/",
          "height": 36
        }
      },
      "source": [
        "c = (34 == 35)\n",
        "\n",
        "print(c)"
      ],
      "execution_count": 0,
      "outputs": [
        {
          "output_type": "stream",
          "text": [
            "False\n"
          ],
          "name": "stdout"
        }
      ]
    },
    {
      "cell_type": "code",
      "metadata": {
        "id": "r9lCflA4w2C0",
        "colab_type": "code",
        "outputId": "e43d940e-9005-4dc4-c695-72e4f0f955e5",
        "colab": {
          "base_uri": "https://localhost:8080/",
          "height": 36
        }
      },
      "source": [
        "34 == 34"
      ],
      "execution_count": 0,
      "outputs": [
        {
          "output_type": "execute_result",
          "data": {
            "text/plain": [
              "True"
            ]
          },
          "metadata": {
            "tags": []
          },
          "execution_count": 13
        }
      ]
    },
    {
      "cell_type": "code",
      "metadata": {
        "id": "gXQMmbqFw47W",
        "colab_type": "code",
        "outputId": "d0edf569-be31-4bf2-fa39-aa258cfc24e3",
        "colab": {
          "base_uri": "https://localhost:8080/",
          "height": 36
        }
      },
      "source": [
        "a == b"
      ],
      "execution_count": 0,
      "outputs": [
        {
          "output_type": "execute_result",
          "data": {
            "text/plain": [
              "False"
            ]
          },
          "metadata": {
            "tags": []
          },
          "execution_count": 14
        }
      ]
    },
    {
      "cell_type": "code",
      "metadata": {
        "id": "HML9FNavw6z2",
        "colab_type": "code",
        "outputId": "986937d0-348c-419c-befa-02ee468085d8",
        "colab": {
          "base_uri": "https://localhost:8080/",
          "height": 36
        }
      },
      "source": [
        "a != b "
      ],
      "execution_count": 0,
      "outputs": [
        {
          "output_type": "execute_result",
          "data": {
            "text/plain": [
              "True"
            ]
          },
          "metadata": {
            "tags": []
          },
          "execution_count": 15
        }
      ]
    },
    {
      "cell_type": "markdown",
      "metadata": {
        "id": "BCjMicu2ec69",
        "colab_type": "text"
      },
      "source": [
        "**OR**"
      ]
    },
    {
      "cell_type": "code",
      "metadata": {
        "id": "ybxuOku9efJN",
        "colab_type": "code",
        "outputId": "44d3ed0e-dabb-4da2-dd0c-3221579d5538",
        "colab": {
          "base_uri": "https://localhost:8080/",
          "height": 36
        }
      },
      "source": [
        "True or False "
      ],
      "execution_count": 0,
      "outputs": [
        {
          "output_type": "execute_result",
          "data": {
            "text/plain": [
              "True"
            ]
          },
          "metadata": {
            "tags": []
          },
          "execution_count": 17
        }
      ]
    },
    {
      "cell_type": "code",
      "metadata": {
        "id": "Qw2nYzVhxPdz",
        "colab_type": "code",
        "outputId": "452e1467-62b0-4c75-95f5-03944a41d66d",
        "colab": {
          "base_uri": "https://localhost:8080/",
          "height": 36
        }
      },
      "source": [
        "True or True"
      ],
      "execution_count": 0,
      "outputs": [
        {
          "output_type": "execute_result",
          "data": {
            "text/plain": [
              "True"
            ]
          },
          "metadata": {
            "tags": []
          },
          "execution_count": 18
        }
      ]
    },
    {
      "cell_type": "code",
      "metadata": {
        "id": "3umUu7XVxRTT",
        "colab_type": "code",
        "outputId": "ca7fd7ca-5a9b-4a5c-c1c9-0d6393512301",
        "colab": {
          "base_uri": "https://localhost:8080/",
          "height": 36
        }
      },
      "source": [
        "False or False"
      ],
      "execution_count": 0,
      "outputs": [
        {
          "output_type": "execute_result",
          "data": {
            "text/plain": [
              "False"
            ]
          },
          "metadata": {
            "tags": []
          },
          "execution_count": 19
        }
      ]
    },
    {
      "cell_type": "markdown",
      "metadata": {
        "id": "YbwUNpH2ei1V",
        "colab_type": "text"
      },
      "source": [
        "**AND**"
      ]
    },
    {
      "cell_type": "code",
      "metadata": {
        "id": "8M4AVmF9ekpM",
        "colab_type": "code",
        "outputId": "50f8eb4b-9b2f-44ea-95e2-9e31cc78d9f7",
        "colab": {
          "base_uri": "https://localhost:8080/",
          "height": 36
        }
      },
      "source": [
        "True and False "
      ],
      "execution_count": 0,
      "outputs": [
        {
          "output_type": "execute_result",
          "data": {
            "text/plain": [
              "False"
            ]
          },
          "metadata": {
            "tags": []
          },
          "execution_count": 20
        }
      ]
    },
    {
      "cell_type": "code",
      "metadata": {
        "id": "S6K3qpr2xcRA",
        "colab_type": "code",
        "outputId": "9ba8ee5f-d35b-473c-8894-5cc5ea61e930",
        "colab": {
          "base_uri": "https://localhost:8080/",
          "height": 36
        }
      },
      "source": [
        "True and True "
      ],
      "execution_count": 0,
      "outputs": [
        {
          "output_type": "execute_result",
          "data": {
            "text/plain": [
              "True"
            ]
          },
          "metadata": {
            "tags": []
          },
          "execution_count": 21
        }
      ]
    },
    {
      "cell_type": "code",
      "metadata": {
        "id": "4Ly6jorOxfTE",
        "colab_type": "code",
        "outputId": "babd1d0f-ad98-4651-ce3b-9847e57e1be0",
        "colab": {
          "base_uri": "https://localhost:8080/",
          "height": 36
        }
      },
      "source": [
        "False and False "
      ],
      "execution_count": 0,
      "outputs": [
        {
          "output_type": "execute_result",
          "data": {
            "text/plain": [
              "False"
            ]
          },
          "metadata": {
            "tags": []
          },
          "execution_count": 22
        }
      ]
    },
    {
      "cell_type": "code",
      "metadata": {
        "id": "UWTIDgUgxmQL",
        "colab_type": "code",
        "outputId": "483f3ed7-f5e5-49c9-d360-0a3b39e1cb30",
        "colab": {
          "base_uri": "https://localhost:8080/",
          "height": 36
        }
      },
      "source": [
        "sayi = 53 \n",
        "\n",
        "sayi < 45 or (sayi % 2 == 0)"
      ],
      "execution_count": 0,
      "outputs": [
        {
          "output_type": "execute_result",
          "data": {
            "text/plain": [
              "False"
            ]
          },
          "metadata": {
            "tags": []
          },
          "execution_count": 37
        }
      ]
    },
    {
      "cell_type": "markdown",
      "metadata": {
        "id": "jiq6T6CTepHh",
        "colab_type": "text"
      },
      "source": [
        "**NOT**"
      ]
    },
    {
      "cell_type": "code",
      "metadata": {
        "id": "W7slL7LkerTW",
        "colab_type": "code",
        "outputId": "124f9eba-dc0a-4536-90a0-e3d2f0d1ee98",
        "colab": {
          "base_uri": "https://localhost:8080/",
          "height": 54
        }
      },
      "source": [
        "print(not True)\n",
        "\n",
        "print(not False)"
      ],
      "execution_count": 0,
      "outputs": [
        {
          "output_type": "stream",
          "text": [
            "False\n",
            "True\n"
          ],
          "name": "stdout"
        }
      ]
    },
    {
      "cell_type": "markdown",
      "metadata": {
        "id": "mUJSYL7HesD3",
        "colab_type": "text"
      },
      "source": [
        "**GREATER**"
      ]
    },
    {
      "cell_type": "code",
      "metadata": {
        "id": "NPMIcdhoevE6",
        "colab_type": "code",
        "outputId": "5e82135d-02b1-4864-e37c-25d060143fce",
        "colab": {
          "base_uri": "https://localhost:8080/",
          "height": 92
        }
      },
      "source": [
        "a = 50\n",
        "\n",
        "print(a > 70)\n",
        "\n",
        "print(a > 20)\n",
        "\n",
        "print(a >= 50)\n",
        "\n",
        "print(a > 50)"
      ],
      "execution_count": 0,
      "outputs": [
        {
          "output_type": "stream",
          "text": [
            "False\n",
            "True\n",
            "True\n",
            "False\n"
          ],
          "name": "stdout"
        }
      ]
    },
    {
      "cell_type": "markdown",
      "metadata": {
        "id": "_ioMfJ00evry",
        "colab_type": "text"
      },
      "source": [
        "**LESS**"
      ]
    },
    {
      "cell_type": "code",
      "metadata": {
        "id": "psQ1syS7ew_a",
        "colab_type": "code",
        "outputId": "d5e69bf1-c74c-4159-a074-e49f90dd2595",
        "colab": {
          "base_uri": "https://localhost:8080/",
          "height": 92
        }
      },
      "source": [
        "print(a < 89)\n",
        "\n",
        "print(a < 10)\n",
        "\n",
        "print(a <= 10)\n",
        "\n",
        "print(a <= 50)"
      ],
      "execution_count": 0,
      "outputs": [
        {
          "output_type": "stream",
          "text": [
            "True\n",
            "False\n",
            "False\n",
            "True\n"
          ],
          "name": "stdout"
        }
      ]
    },
    {
      "cell_type": "markdown",
      "metadata": {
        "id": "yyRuDv2rezXI",
        "colab_type": "text"
      },
      "source": [
        "**if**"
      ]
    },
    {
      "cell_type": "code",
      "metadata": {
        "id": "aq0_YVgse1ER",
        "colab_type": "code",
        "outputId": "0c0fe0cc-ecc2-4da6-dadf-413a2d0e00a1",
        "colab": {
          "base_uri": "https://localhost:8080/",
          "height": 36
        }
      },
      "source": [
        "cagatay = 28 \n",
        "\n",
        "ece = 30\n",
        "\n",
        "if ece > cagatay:\n",
        "  print(\"Ece buyuktur\")  \n",
        "  \n",
        "  \n",
        "if True:\n",
        "  print(\"aa calisti\")\n",
        "if False:\n",
        "  print(\"aa calismadi\")"
      ],
      "execution_count": 0,
      "outputs": [
        {
          "output_type": "stream",
          "text": [
            "aa calisti\n"
          ],
          "name": "stdout"
        }
      ]
    },
    {
      "cell_type": "markdown",
      "metadata": {
        "id": "KslDNk7pe1qk",
        "colab_type": "text"
      },
      "source": [
        "**elif**"
      ]
    },
    {
      "cell_type": "code",
      "metadata": {
        "id": "WJG-SFXEe4x2",
        "colab_type": "code",
        "outputId": "b843a1b9-ff3d-4179-ddd0-c353b5e9cb3a",
        "colab": {
          "base_uri": "https://localhost:8080/",
          "height": 36
        }
      },
      "source": [
        "if ece < cagatay:\n",
        "  print(\"Ece kucuktur\")\n",
        "elif ece == cagatay:\n",
        "  print(\"Ece Cagatay ile ayni yastadir\")\n",
        "elif ece > cagatay:\n",
        "  print(\"Ece buyuktur\")"
      ],
      "execution_count": 0,
      "outputs": [
        {
          "output_type": "stream",
          "text": [
            "Ece buyuktur\n"
          ],
          "name": "stdout"
        }
      ]
    },
    {
      "cell_type": "markdown",
      "metadata": {
        "id": "dtrUPf9De6Hb",
        "colab_type": "text"
      },
      "source": [
        "**else**"
      ]
    },
    {
      "cell_type": "code",
      "metadata": {
        "id": "Vi6BT3oOe7KK",
        "colab_type": "code",
        "outputId": "b9579e62-08ef-4193-d39c-79a4aa9fe8db",
        "colab": {
          "base_uri": "https://localhost:8080/",
          "height": 36
        }
      },
      "source": [
        "if ece <= cagatay:\n",
        "  print(\"kosul 1\")\n",
        "else:\n",
        "  print(\"Diger kosul\")"
      ],
      "execution_count": 0,
      "outputs": [
        {
          "output_type": "stream",
          "text": [
            "Diger kosul\n"
          ],
          "name": "stdout"
        }
      ]
    },
    {
      "cell_type": "code",
      "metadata": {
        "id": "arP4bfKP1JV6",
        "colab_type": "code",
        "colab": {}
      },
      "source": [
        "if False:\n",
        "  pass \n",
        "elif False:\n",
        "  pass \n",
        "else:\n",
        "  pass \n"
      ],
      "execution_count": 0,
      "outputs": []
    },
    {
      "cell_type": "code",
      "metadata": {
        "id": "MLmwJp5Y1l7e",
        "colab_type": "code",
        "colab": {}
      },
      "source": [
        ""
      ],
      "execution_count": 0,
      "outputs": []
    }
  ]
}