{
  "nbformat": 4,
  "nbformat_minor": 0,
  "metadata": {
    "colab": {
      "name": "bitcoin_yarilanma.ipynb",
      "provenance": []
    },
    "kernelspec": {
      "name": "python3",
      "display_name": "Python 3"
    }
  },
  "cells": [
    {
      "cell_type": "code",
      "metadata": {
        "id": "SAsB5Kl_D_HW",
        "colab_type": "code",
        "colab": {}
      },
      "source": [
        "# SATOSHI'den COIN'e gecıs \n",
        "COIN = 100000000\n",
        "\n",
        "def odul_al(toplam_blok, yarilanma_omru):\n",
        "  yarilanma_sayisi = int(toplam_blok/yarilanma_omru)\n",
        "\n",
        "  if yarilanma_sayisi > 64:\n",
        "    # artik bitcoin basimi yok\n",
        "    return 0\n",
        "\n",
        "  odul = 50 * COIN\n",
        "\n",
        "  # YARILANMA BURADA GERCEKLESIYOR\n",
        "  odul >>= yarilanma_sayisi\n",
        "\n",
        "  return odul, yarilanma_sayisi"
      ],
      "execution_count": 0,
      "outputs": []
    },
    {
      "cell_type": "code",
      "metadata": {
        "id": "FcjK5VwvH-Ps",
        "colab_type": "code",
        "colab": {}
      },
      "source": [
        "toplam_blok = 630000\n",
        "yarilanma_omru = 210000\n",
        "\n",
        "odul, yarilanma_sayisi = odul_al(toplam_blok, yarilanma_omru)\n"
      ],
      "execution_count": 0,
      "outputs": []
    },
    {
      "cell_type": "code",
      "metadata": {
        "id": "0apTxlUqIXke",
        "colab_type": "code",
        "outputId": "7d58899e-98c3-4dab-f181-923605d21533",
        "colab": {
          "base_uri": "https://localhost:8080/",
          "height": 54
        }
      },
      "source": [
        "print('Yarilanma sayisi: ', yarilanma_sayisi)\n",
        "print('Madenci odulu: ', odul/COIN)"
      ],
      "execution_count": 0,
      "outputs": [
        {
          "output_type": "stream",
          "text": [
            "Yarilanma sayisi:  3\n",
            "Madenci odulu:  6.25\n"
          ],
          "name": "stdout"
        }
      ]
    }
  ]
}