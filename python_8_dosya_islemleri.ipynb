{
  "nbformat": 4,
  "nbformat_minor": 0,
  "metadata": {
    "colab": {
      "name": "python_8_dosya_islemleri.ipynb",
      "provenance": [],
      "collapsed_sections": []
    },
    "kernelspec": {
      "name": "python3",
      "display_name": "Python 3"
    }
  },
  "cells": [
    {
      "cell_type": "markdown",
      "metadata": {
        "id": "KSalYHMXn0-G",
        "colab_type": "text"
      },
      "source": [
        "# Dosyayı açmak ve Kapatmak"
      ]
    },
    {
      "cell_type": "code",
      "metadata": {
        "id": "GPyZOlBYQety",
        "colab_type": "code",
        "colab": {}
      },
      "source": [
        "!echo \"Python ogreniyorum\" >> dosya.txt\n",
        "!echo \"sonra opencv ogrenecegim \" >> dosya.txt"
      ],
      "execution_count": 0,
      "outputs": []
    },
    {
      "cell_type": "code",
      "metadata": {
        "id": "QQ8GjlMjQwd6",
        "colab_type": "code",
        "outputId": "fb568f23-1997-40ba-8ca0-bb11d1edc55a",
        "colab": {
          "base_uri": "https://localhost:8080/",
          "height": 54
        }
      },
      "source": [
        "!cat dosya.txt"
      ],
      "execution_count": 0,
      "outputs": [
        {
          "output_type": "stream",
          "text": [
            "Python ogreniyorum\n",
            "sonra opencv ogrenecegim \n"
          ],
          "name": "stdout"
        }
      ]
    },
    {
      "cell_type": "markdown",
      "metadata": {
        "id": "jCJ6KtG3n9rQ",
        "colab_type": "text"
      },
      "source": [
        "## Dosyayı açmak"
      ]
    },
    {
      "cell_type": "code",
      "metadata": {
        "id": "LqXgK7jRQ53r",
        "colab_type": "code",
        "colab": {}
      },
      "source": [
        "dosya = open(\"dosya.txt\", mode=\"w\")\n",
        "\n",
        "dosya.close()"
      ],
      "execution_count": 0,
      "outputs": []
    },
    {
      "cell_type": "code",
      "metadata": {
        "id": "8N4J_AcXRAE1",
        "colab_type": "code",
        "outputId": "3541c6e4-55d4-4f61-dbc6-7856a5c36b5d",
        "colab": {
          "base_uri": "https://localhost:8080/",
          "height": 54
        }
      },
      "source": [
        "!cat dosya.txt"
      ],
      "execution_count": 0,
      "outputs": [
        {
          "output_type": "stream",
          "text": [
            "Python ogreniyorum\n",
            "sonra opencv ogrenecegim \n"
          ],
          "name": "stdout"
        }
      ]
    },
    {
      "cell_type": "markdown",
      "metadata": {
        "id": "Kdr27j22oAbE",
        "colab_type": "text"
      },
      "source": [
        "## Dosyayı kapatmak"
      ]
    },
    {
      "cell_type": "code",
      "metadata": {
        "id": "DXNWTVx1SwcN",
        "colab_type": "code",
        "colab": {}
      },
      "source": [
        "dosya = open(\"dosya.txt\", mode=\"r+\")\n",
        "\n",
        "dosya.close()"
      ],
      "execution_count": 0,
      "outputs": []
    },
    {
      "cell_type": "markdown",
      "metadata": {
        "id": "agrC9b5xoE-J",
        "colab_type": "text"
      },
      "source": [
        "## with operatörü"
      ]
    },
    {
      "cell_type": "code",
      "metadata": {
        "id": "_pOEnj5rTFs0",
        "colab_type": "code",
        "outputId": "7756a74d-d592-4a3f-e74e-bda13d3bdd00",
        "colab": {
          "base_uri": "https://localhost:8080/",
          "height": 249
        }
      },
      "source": [
        "with open(\"dosya.txt\", mode=\"r+\") as dosya:\n",
        "  print(dosya.readline())\n",
        "\n",
        "dosya.readline()"
      ],
      "execution_count": 0,
      "outputs": [
        {
          "output_type": "stream",
          "text": [
            "Python ogreniyorum\n",
            "\n"
          ],
          "name": "stdout"
        },
        {
          "output_type": "error",
          "ename": "ValueError",
          "evalue": "ignored",
          "traceback": [
            "\u001b[0;31m---------------------------------------------------------------------------\u001b[0m",
            "\u001b[0;31mValueError\u001b[0m                                Traceback (most recent call last)",
            "\u001b[0;32m<ipython-input-30-5c92cf4600e1>\u001b[0m in \u001b[0;36m<module>\u001b[0;34m()\u001b[0m\n\u001b[1;32m      2\u001b[0m   \u001b[0mprint\u001b[0m\u001b[0;34m(\u001b[0m\u001b[0mdosya\u001b[0m\u001b[0;34m.\u001b[0m\u001b[0mreadline\u001b[0m\u001b[0;34m(\u001b[0m\u001b[0;34m)\u001b[0m\u001b[0;34m)\u001b[0m\u001b[0;34m\u001b[0m\u001b[0;34m\u001b[0m\u001b[0m\n\u001b[1;32m      3\u001b[0m \u001b[0;34m\u001b[0m\u001b[0m\n\u001b[0;32m----> 4\u001b[0;31m \u001b[0mdosya\u001b[0m\u001b[0;34m.\u001b[0m\u001b[0mreadline\u001b[0m\u001b[0;34m(\u001b[0m\u001b[0;34m)\u001b[0m\u001b[0;34m\u001b[0m\u001b[0;34m\u001b[0m\u001b[0m\n\u001b[0m",
            "\u001b[0;31mValueError\u001b[0m: I/O operation on closed file."
          ]
        }
      ]
    },
    {
      "cell_type": "markdown",
      "metadata": {
        "id": "UqYIzgl_l-aa",
        "colab_type": "text"
      },
      "source": [
        "# Dosyaya veri yazmak "
      ]
    },
    {
      "cell_type": "markdown",
      "metadata": {
        "id": "nEB-_6BhmrVV",
        "colab_type": "text"
      },
      "source": [
        "## .write()"
      ]
    },
    {
      "cell_type": "code",
      "metadata": {
        "id": "hQjdn_hmVekc",
        "colab_type": "code",
        "colab": {}
      },
      "source": [
        "with open(\"dosya.txt\", \"r+\") as d:\n",
        "  d.write(\"sonra da ros ogrenecegim\")"
      ],
      "execution_count": 0,
      "outputs": []
    },
    {
      "cell_type": "markdown",
      "metadata": {
        "id": "8DQNmFnMouub",
        "colab_type": "text"
      },
      "source": [
        "## Dosyadan veri okumak"
      ]
    },
    {
      "cell_type": "markdown",
      "metadata": {
        "id": "LHkURuCCo6FW",
        "colab_type": "text"
      },
      "source": [
        "## .read()"
      ]
    },
    {
      "cell_type": "code",
      "metadata": {
        "id": "ctWzO3w8TyAh",
        "colab_type": "code",
        "outputId": "dd753d57-6583-47d0-d294-bd243b7eaa14",
        "colab": {
          "base_uri": "https://localhost:8080/",
          "height": 36
        }
      },
      "source": [
        "with open(\"dosya.txt\", \"r\") as d:\n",
        "  print(d.read())"
      ],
      "execution_count": 0,
      "outputs": [
        {
          "output_type": "stream",
          "text": [
            "sonra da ros ogrenecegim\n"
          ],
          "name": "stdout"
        }
      ]
    },
    {
      "cell_type": "code",
      "metadata": {
        "id": "mGMwrnm1T_m0",
        "colab_type": "code",
        "outputId": "8a413f88-66fc-4a54-db66-ec4ed3a32640",
        "colab": {
          "base_uri": "https://localhost:8080/",
          "height": 92
        }
      },
      "source": [
        "with open(\"dosya.txt\", \"r\") as d:\n",
        "  print(d.read(6))\n",
        "  print(d.tell())\n",
        "  print(d.read(2))\n",
        "  print(d.tell())"
      ],
      "execution_count": 0,
      "outputs": [
        {
          "output_type": "stream",
          "text": [
            "Python\n",
            "6\n",
            " o\n",
            "8\n"
          ],
          "name": "stdout"
        }
      ]
    },
    {
      "cell_type": "code",
      "metadata": {
        "id": "WcIrT2BFUdqd",
        "colab_type": "code",
        "outputId": "e487c7d2-f5a4-413b-9dde-b01450ec8eb3",
        "colab": {
          "base_uri": "https://localhost:8080/",
          "height": 36
        }
      },
      "source": [
        "with open(\"dosya.txt\", \"r\") as d:\n",
        "  d.seek(10)\n",
        "  print(d.read(5))"
      ],
      "execution_count": 0,
      "outputs": [
        {
          "output_type": "stream",
          "text": [
            "eniyo\n"
          ],
          "name": "stdout"
        }
      ]
    },
    {
      "cell_type": "markdown",
      "metadata": {
        "id": "j4T48Zg0o8pK",
        "colab_type": "text"
      },
      "source": [
        "## .readlines()"
      ]
    },
    {
      "cell_type": "code",
      "metadata": {
        "id": "0BFI2NTAo2fE",
        "colab_type": "code",
        "outputId": "3d1ad66b-dee9-4229-bcfd-4ce0de94a6b1",
        "colab": {
          "base_uri": "https://localhost:8080/",
          "height": 73
        }
      },
      "source": [
        "with open(\"dosya.txt\", \"r\") as d:\n",
        "  print(d.readline())\n",
        "  print(d.tell())"
      ],
      "execution_count": 0,
      "outputs": [
        {
          "output_type": "stream",
          "text": [
            "Python ogreniyorum\n",
            "\n",
            "19\n"
          ],
          "name": "stdout"
        }
      ]
    },
    {
      "cell_type": "code",
      "metadata": {
        "id": "4HU0cPiRU0Kw",
        "colab_type": "code",
        "outputId": "e4cfd3a6-4217-47d8-b28b-44e04f5f6096",
        "colab": {
          "base_uri": "https://localhost:8080/",
          "height": 36
        }
      },
      "source": [
        "with open(\"dosya.txt\", \"r\") as d:\n",
        "  print(d.readlines())"
      ],
      "execution_count": 0,
      "outputs": [
        {
          "output_type": "stream",
          "text": [
            "['Python ogreniyorum\\n', 'sonra opencv ogrenecegim \\n']\n"
          ],
          "name": "stdout"
        }
      ]
    },
    {
      "cell_type": "code",
      "metadata": {
        "id": "ZhzI9g9PUvYN",
        "colab_type": "code",
        "outputId": "746df0fa-224e-4fde-839e-cad3f1a52c0f",
        "colab": {
          "base_uri": "https://localhost:8080/",
          "height": 129
        }
      },
      "source": [
        "with open(\"dosya.txt\", \"r\") as d:\n",
        "  for l in d:\n",
        "    print(l)\n",
        "    print(\"----------\")"
      ],
      "execution_count": 0,
      "outputs": [
        {
          "output_type": "stream",
          "text": [
            "Python ogreniyorum\n",
            "\n",
            "----------\n",
            "sonra opencv ogrenecegim \n",
            "\n",
            "----------\n"
          ],
          "name": "stdout"
        }
      ]
    },
    {
      "cell_type": "code",
      "metadata": {
        "id": "I7jMOsKJVMJh",
        "colab_type": "code",
        "colab": {}
      },
      "source": [
        ""
      ],
      "execution_count": 0,
      "outputs": []
    }
  ]
}