{
  "nbformat": 4,
  "nbformat_minor": 0,
  "metadata": {
    "colab": {
      "name": "python-flask-uygulamamdan-ne-kadar-kazanirim.ipynb",
      "provenance": [],
      "collapsed_sections": []
    },
    "kernelspec": {
      "name": "python3",
      "display_name": "Python 3"
    }
  },
  "cells": [
    {
      "cell_type": "code",
      "metadata": {
        "id": "xY3_AtOJtVi8",
        "colab_type": "code",
        "outputId": "f6ab1ac5-5a06-4b18-8a5a-6a7a1c0435f3",
        "colab": {
          "base_uri": "https://localhost:8080/",
          "height": 430
        }
      },
      "source": [
        "!pip install flask \n",
        "!pip install flask-ngrok"
      ],
      "execution_count": 0,
      "outputs": [
        {
          "output_type": "stream",
          "text": [
            "Requirement already satisfied: flask in /usr/local/lib/python3.6/dist-packages (1.1.2)\n",
            "Requirement already satisfied: itsdangerous>=0.24 in /usr/local/lib/python3.6/dist-packages (from flask) (1.1.0)\n",
            "Requirement already satisfied: click>=5.1 in /usr/local/lib/python3.6/dist-packages (from flask) (7.1.2)\n",
            "Requirement already satisfied: Jinja2>=2.10.1 in /usr/local/lib/python3.6/dist-packages (from flask) (2.11.2)\n",
            "Requirement already satisfied: Werkzeug>=0.15 in /usr/local/lib/python3.6/dist-packages (from flask) (1.0.1)\n",
            "Requirement already satisfied: MarkupSafe>=0.23 in /usr/local/lib/python3.6/dist-packages (from Jinja2>=2.10.1->flask) (1.1.1)\n",
            "Collecting flask-ngrok\n",
            "  Downloading https://files.pythonhosted.org/packages/af/6c/f54cb686ad1129e27d125d182f90f52b32f284e6c8df58c1bae54fa1adbc/flask_ngrok-0.0.25-py3-none-any.whl\n",
            "Requirement already satisfied: requests in /usr/local/lib/python3.6/dist-packages (from flask-ngrok) (2.23.0)\n",
            "Requirement already satisfied: Flask>=0.8 in /usr/local/lib/python3.6/dist-packages (from flask-ngrok) (1.1.2)\n",
            "Requirement already satisfied: chardet<4,>=3.0.2 in /usr/local/lib/python3.6/dist-packages (from requests->flask-ngrok) (3.0.4)\n",
            "Requirement already satisfied: certifi>=2017.4.17 in /usr/local/lib/python3.6/dist-packages (from requests->flask-ngrok) (2020.4.5.1)\n",
            "Requirement already satisfied: urllib3!=1.25.0,!=1.25.1,<1.26,>=1.21.1 in /usr/local/lib/python3.6/dist-packages (from requests->flask-ngrok) (1.24.3)\n",
            "Requirement already satisfied: idna<3,>=2.5 in /usr/local/lib/python3.6/dist-packages (from requests->flask-ngrok) (2.9)\n",
            "Requirement already satisfied: Werkzeug>=0.15 in /usr/local/lib/python3.6/dist-packages (from Flask>=0.8->flask-ngrok) (1.0.1)\n",
            "Requirement already satisfied: itsdangerous>=0.24 in /usr/local/lib/python3.6/dist-packages (from Flask>=0.8->flask-ngrok) (1.1.0)\n",
            "Requirement already satisfied: Jinja2>=2.10.1 in /usr/local/lib/python3.6/dist-packages (from Flask>=0.8->flask-ngrok) (2.11.2)\n",
            "Requirement already satisfied: click>=5.1 in /usr/local/lib/python3.6/dist-packages (from Flask>=0.8->flask-ngrok) (7.1.2)\n",
            "Requirement already satisfied: MarkupSafe>=0.23 in /usr/local/lib/python3.6/dist-packages (from Jinja2>=2.10.1->Flask>=0.8->flask-ngrok) (1.1.1)\n",
            "Installing collected packages: flask-ngrok\n",
            "Successfully installed flask-ngrok-0.0.25\n"
          ],
          "name": "stdout"
        }
      ]
    },
    {
      "cell_type": "code",
      "metadata": {
        "id": "HRpljLfuA2Y8",
        "colab_type": "code",
        "colab": {}
      },
      "source": [
        "from flask import Flask, request\n",
        "from flask_ngrok import run_with_ngrok\n",
        "import json"
      ],
      "execution_count": 0,
      "outputs": []
    },
    {
      "cell_type": "code",
      "metadata": {
        "id": "3zsIVz-PAzEt",
        "colab_type": "code",
        "colab": {}
      },
      "source": [
        "def hesapla(gunluk_kullanici_sayisi, cpm, ortalama_kullanici_basina_reklam):\n",
        "    return (gunluk_kullanici_sayisi/1000)*cpm*ortalama_kullanici_basina_reklam"
      ],
      "execution_count": 0,
      "outputs": []
    },
    {
      "cell_type": "code",
      "metadata": {
        "id": "lNvNc-VNA56l",
        "colab_type": "code",
        "colab": {}
      },
      "source": [
        "def parametreleri_al():\n",
        "    gunluk_kullanici_sayisi = request.args.get('gunluk_kullanici_sayisi', default=1000, type = int)\n",
        "    cpm = request.args.get('cpm', default = 5, type = int)\n",
        "    ortalama_kullanici_basina_reklam = request.args.get('kullanici_basina_reklam', default = 2, type = int)\n",
        "\n",
        "    return gunluk_kullanici_sayisi, cpm, ortalama_kullanici_basina_reklam"
      ],
      "execution_count": 0,
      "outputs": []
    },
    {
      "cell_type": "code",
      "metadata": {
        "id": "QkxpVN06A8zF",
        "colab_type": "code",
        "colab": {}
      },
      "source": [
        "app = Flask(__name__)\n",
        "run_with_ngrok(app)"
      ],
      "execution_count": 0,
      "outputs": []
    },
    {
      "cell_type": "code",
      "metadata": {
        "id": "22JhzV-XBBep",
        "colab_type": "code",
        "colab": {}
      },
      "source": [
        "@app.route(\"/nekadarkazanirim\")\n",
        "def ana_sayfa():\n",
        "    return \"\"\"\n",
        "            <h1>\n",
        "             Ne kadar kazanırım? Merak mı ediyorsunuz? </br>\n",
        "            </h1>\n",
        "            <h1>\n",
        "             Yapmanız gereken aşağıdaki adrese gitmek: </br> \n",
        "             http://www.cagatayodabasi.com:5000/nekadarkazanirim/api/v1/hesapla\n",
        "            </h1>\n",
        "           \"\"\""
      ],
      "execution_count": 0,
      "outputs": []
    },
    {
      "cell_type": "code",
      "metadata": {
        "id": "XjwEBgY0BFE8",
        "colab_type": "code",
        "colab": {}
      },
      "source": [
        "@app.route(\"/nekadarkazanirim/api/v1/hesapla\")\n",
        "def gelir_hesapla():\n",
        "\n",
        "    gunluk_kullanici_sayisi, cpm, ortalama_kullanici_basina_reklam = \\\n",
        "      parametreleri_al()\n",
        "\n",
        "    kazanc = \\\n",
        "      hesapla(gunluk_kullanici_sayisi, cpm, ortalama_kullanici_basina_reklam)\n",
        "    \n",
        "    kazanc_dict = dict()\n",
        "\n",
        "    kazanc_dict['aciklama'] = \\\n",
        "       \"\"\"\n",
        "       Gunluk tahmini kazanciniz. Bu degerler buyuk degisiklik gosterebilir.\n",
        "       \"\"\"\n",
        "\n",
        "    kazanc_dict['gunluk_kazanc'] = str(kazanc) + \"TL\" \n",
        "    kazanc_dict['gunluk_kullanici'] = gunluk_kullanici_sayisi\n",
        "    kazanc_dict['cpm'] = cpm\n",
        "    kazanc_dict['kullanici_basina_reklam'] = ortalama_kullanici_basina_reklam\n",
        "\n",
        "    return json.dumps(kazanc_dict)"
      ],
      "execution_count": 0,
      "outputs": []
    },
    {
      "cell_type": "code",
      "metadata": {
        "id": "ORqD_vBfs7S4",
        "colab_type": "code",
        "outputId": "c21ebdaa-e178-4b38-a955-eac50361b4de",
        "colab": {
          "base_uri": "https://localhost:8080/",
          "height": 355
        }
      },
      "source": [
        "app.run()"
      ],
      "execution_count": 0,
      "outputs": [
        {
          "output_type": "stream",
          "text": [
            " * Serving Flask app \"__main__\" (lazy loading)\n",
            " * Environment: production\n",
            "\u001b[31m   WARNING: This is a development server. Do not use it in a production deployment.\u001b[0m\n",
            "\u001b[2m   Use a production WSGI server instead.\u001b[0m\n",
            " * Debug mode: off\n"
          ],
          "name": "stdout"
        },
        {
          "output_type": "stream",
          "text": [
            " * Running on http://127.0.0.1:5000/ (Press CTRL+C to quit)\n"
          ],
          "name": "stderr"
        },
        {
          "output_type": "stream",
          "text": [
            " * Running on http://8c2a544a.ngrok.io\n",
            " * Traffic stats available on http://127.0.0.1:4040\n"
          ],
          "name": "stdout"
        },
        {
          "output_type": "stream",
          "text": [
            "127.0.0.1 - - [18/May/2020 17:19:38] \"\u001b[33mGET / HTTP/1.1\u001b[0m\" 404 -\n",
            "127.0.0.1 - - [18/May/2020 17:19:39] \"\u001b[33mGET /favicon.ico HTTP/1.1\u001b[0m\" 404 -\n",
            "127.0.0.1 - - [18/May/2020 17:20:03] \"\u001b[37mGET /nekadarkazanirim HTTP/1.1\u001b[0m\" 200 -\n",
            "127.0.0.1 - - [18/May/2020 17:20:20] \"\u001b[37mGET /nekadarkazanirim/api/v1/hesapla HTTP/1.1\u001b[0m\" 200 -\n",
            "127.0.0.1 - - [18/May/2020 17:22:18] \"\u001b[37mGET /nekadarkazanirim/api/v1/hesapla?gunluk_kullanici_sayisi=1000000 HTTP/1.1\u001b[0m\" 200 -\n",
            "127.0.0.1 - - [18/May/2020 17:23:08] \"\u001b[37mGET /nekadarkazanirim/api/v1/hesapla?gunluk_kullanici_sayisi=1000000?cpm=3 HTTP/1.1\u001b[0m\" 200 -\n",
            "127.0.0.1 - - [18/May/2020 17:23:14] \"\u001b[37mGET /nekadarkazanirim/api/v1/hesapla?gunluk_kullanici_sayisi=1000000&cpm=3 HTTP/1.1\u001b[0m\" 200 -\n",
            "127.0.0.1 - - [18/May/2020 17:23:46] \"\u001b[37mGET /nekadarkazanirim/api/v1/hesapla?gunluk_kullanici_sayisi=1000000&cpm=3&kullanici_basina_reklam=10 HTTP/1.1\u001b[0m\" 200 -\n",
            "127.0.0.1 - - [18/May/2020 17:23:46] \"\u001b[33mGET /favicon.ico HTTP/1.1\u001b[0m\" 404 -\n"
          ],
          "name": "stderr"
        }
      ]
    },
    {
      "cell_type": "markdown",
      "metadata": {
        "id": "njmmFmhNYKTX",
        "colab_type": "text"
      },
      "source": [
        "http://www.cagatayodabasi.com:5000/nekadarkazanirim"
      ]
    },
    {
      "cell_type": "markdown",
      "metadata": {
        "id": "CfeUGfsLYGPO",
        "colab_type": "text"
      },
      "source": [
        "**Nasıl kullanacağız?**"
      ]
    },
    {
      "cell_type": "code",
      "metadata": {
        "id": "fnzA8kckXlHR",
        "colab_type": "code",
        "colab": {}
      },
      "source": [
        "import requests"
      ],
      "execution_count": 0,
      "outputs": []
    },
    {
      "cell_type": "code",
      "metadata": {
        "id": "9BDECpDmXnBm",
        "colab_type": "code",
        "colab": {}
      },
      "source": [
        "r = requests.get(\"http://www.cagatayodabasi.com:5000/nekadarkazanirim/api/v1/hesapla\", params={'cpm' : 25, 'gunluk_kullanici_sayisi':100})"
      ],
      "execution_count": 0,
      "outputs": []
    },
    {
      "cell_type": "code",
      "metadata": {
        "id": "sD1iLtWxX87u",
        "colab_type": "code",
        "colab": {}
      },
      "source": [
        "cevap_dict = r.json()"
      ],
      "execution_count": 0,
      "outputs": []
    },
    {
      "cell_type": "code",
      "metadata": {
        "id": "4gSRMzM1ZUS0",
        "colab_type": "code",
        "outputId": "d53df52f-7bc0-4f59-af3f-775f4f91b6ac",
        "colab": {
          "base_uri": "https://localhost:8080/",
          "height": 36
        }
      },
      "source": [
        "cevap_dict['gunluk_kazanc']"
      ],
      "execution_count": 0,
      "outputs": [
        {
          "output_type": "execute_result",
          "data": {
            "text/plain": [
              "'5.0TL'"
            ]
          },
          "metadata": {
            "tags": []
          },
          "execution_count": 15
        }
      ]
    },
    {
      "cell_type": "code",
      "metadata": {
        "id": "vpndTu-T07oh",
        "colab_type": "code",
        "colab": {}
      },
      "source": [
        ""
      ],
      "execution_count": 0,
      "outputs": []
    }
  ]
}