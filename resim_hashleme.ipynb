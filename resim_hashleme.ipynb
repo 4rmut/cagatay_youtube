{
  "nbformat": 4,
  "nbformat_minor": 0,
  "metadata": {
    "colab": {
      "name": "Untitled14.ipynb",
      "version": "0.3.2",
      "provenance": [],
      "collapsed_sections": []
    },
    "kernelspec": {
      "name": "python3",
      "display_name": "Python 3"
    },
    "accelerator": "GPU"
  },
  "cells": [
    {
      "metadata": {
        "id": "VZbHbDlwvBt-",
        "colab_type": "code",
        "outputId": "be63aa80-ee4f-402c-8586-9e1bcf494a1f",
        "colab": {
          "base_uri": "https://localhost:8080/",
          "height": 373
        }
      },
      "cell_type": "code",
      "source": [
        "!pip install opencv-python==4.0.0.21\n",
        "!pip install opencv-contrib-python==4.0.0.21\n",
        "\n"
      ],
      "execution_count": 2,
      "outputs": [
        {
          "output_type": "stream",
          "text": [
            "Collecting opencv-python==4.0.0.21\n",
            "\u001b[?25l  Downloading https://files.pythonhosted.org/packages/37/49/874d119948a5a084a7ebe98308214098ef3471d76ab74200f9800efeef15/opencv_python-4.0.0.21-cp36-cp36m-manylinux1_x86_64.whl (25.4MB)\n",
            "\u001b[K    100% |████████████████████████████████| 25.4MB 1.4MB/s \n",
            "\u001b[?25hRequirement already satisfied: numpy>=1.11.3 in /usr/local/lib/python3.6/dist-packages (from opencv-python==4.0.0.21) (1.14.6)\n",
            "\u001b[31mimgaug 0.2.8 has requirement numpy>=1.15.0, but you'll have numpy 1.14.6 which is incompatible.\u001b[0m\n",
            "\u001b[31malbumentations 0.1.12 has requirement imgaug<0.2.7,>=0.2.5, but you'll have imgaug 0.2.8 which is incompatible.\u001b[0m\n",
            "Installing collected packages: opencv-python\n",
            "  Found existing installation: opencv-python 3.4.5.20\n",
            "    Uninstalling opencv-python-3.4.5.20:\n",
            "      Successfully uninstalled opencv-python-3.4.5.20\n",
            "Successfully installed opencv-python-4.0.0.21\n",
            "Collecting opencv-contrib-python==4.0.0.21\n",
            "\u001b[?25l  Downloading https://files.pythonhosted.org/packages/1f/c0/0463d91f297521b2e15e3d682d7077557fe773db72a03a0d2dba899ab8a5/opencv_contrib_python-4.0.0.21-cp36-cp36m-manylinux1_x86_64.whl (31.2MB)\n",
            "\u001b[K    100% |████████████████████████████████| 31.2MB 999kB/s \n",
            "\u001b[?25hRequirement already satisfied: numpy>=1.11.3 in /usr/local/lib/python3.6/dist-packages (from opencv-contrib-python==4.0.0.21) (1.14.6)\n",
            "Installing collected packages: opencv-contrib-python\n",
            "  Found existing installation: opencv-contrib-python 3.4.3.18\n",
            "    Uninstalling opencv-contrib-python-3.4.3.18:\n",
            "      Successfully uninstalled opencv-contrib-python-3.4.3.18\n",
            "Successfully installed opencv-contrib-python-4.0.0.21\n"
          ],
          "name": "stdout"
        }
      ]
    },
    {
      "metadata": {
        "id": "3LGGk3vvKBB0",
        "colab_type": "code",
        "outputId": "a4c7bf67-3525-44f6-f568-04e7d5ea6fc0",
        "colab": {
          "base_uri": "https://localhost:8080/",
          "height": 1126
        }
      },
      "cell_type": "code",
      "source": [
        "# Resimleri indirelim\n",
        "!wget https://upload.wikimedia.org/wikipedia/commons/thumb/2/20/%C4%B0zmir_Saat_Kulesi_-_02.jpg/674px-%C4%B0zmir_Saat_Kulesi_-_02.jpg -O saat_kulesi_1.jpg\n",
        "!wget https://upload.wikimedia.org/wikipedia/commons/2/2d/Izmir-saat_kulesi_-_panoramio.jpg -O saat_kulesi_2.jpg\n",
        "!wget https://upload.wikimedia.org/wikipedia/commons/thumb/6/66/The_Leaning_Tower_of_Pisa_SB.jpeg/590px-The_Leaning_Tower_of_Pisa_SB.jpeg -O pisa_kulesi_1.jpeg\n",
        "!wget https://upload.wikimedia.org/wikipedia/commons/thumb/9/9f/Leaning_Tower_of_Pisa_%281%29.jpg/597px-Leaning_Tower_of_Pisa_%281%29.jpg -O pisa_kulesi_2.jpg\n",
        "!wget https://cdn.pixabay.com/photo/2015/10/06/18/26/eiffel-tower-975004_1280.jpg -O eiffel_kulesi_1.jpg\n",
        "!wget https://www.maxpixel.net/static/photo/1x/Eiffel-Tower-Paris-France-3665732.jpg -O eiffel_kulesi_2.jpg"
      ],
      "execution_count": 3,
      "outputs": [
        {
          "output_type": "stream",
          "text": [
            "--2019-03-20 23:06:23--  https://upload.wikimedia.org/wikipedia/commons/thumb/2/20/%C4%B0zmir_Saat_Kulesi_-_02.jpg/674px-%C4%B0zmir_Saat_Kulesi_-_02.jpg\n",
            "Resolving upload.wikimedia.org (upload.wikimedia.org)... 91.198.174.208, 2620:0:862:ed1a::2:b\n",
            "Connecting to upload.wikimedia.org (upload.wikimedia.org)|91.198.174.208|:443... connected.\n",
            "HTTP request sent, awaiting response... 200 OK\n",
            "Length: 167465 (164K) [image/jpeg]\n",
            "Saving to: ‘saat_kulesi_1.jpg’\n",
            "\n",
            "\rsaat_kulesi_1.jpg     0%[                    ]       0  --.-KB/s               \rsaat_kulesi_1.jpg   100%[===================>] 163.54K  --.-KB/s    in 0.02s   \n",
            "\n",
            "2019-03-20 23:06:23 (9.39 MB/s) - ‘saat_kulesi_1.jpg’ saved [167465/167465]\n",
            "\n",
            "--2019-03-20 23:06:25--  https://upload.wikimedia.org/wikipedia/commons/2/2d/Izmir-saat_kulesi_-_panoramio.jpg\n",
            "Resolving upload.wikimedia.org (upload.wikimedia.org)... 91.198.174.208, 2620:0:862:ed1a::2:b\n",
            "Connecting to upload.wikimedia.org (upload.wikimedia.org)|91.198.174.208|:443... connected.\n",
            "HTTP request sent, awaiting response... 200 OK\n",
            "Length: 396500 (387K) [image/jpeg]\n",
            "Saving to: ‘saat_kulesi_2.jpg’\n",
            "\n",
            "saat_kulesi_2.jpg   100%[===================>] 387.21K  --.-KB/s    in 0.09s   \n",
            "\n",
            "2019-03-20 23:06:25 (4.36 MB/s) - ‘saat_kulesi_2.jpg’ saved [396500/396500]\n",
            "\n",
            "--2019-03-20 23:06:27--  https://upload.wikimedia.org/wikipedia/commons/thumb/6/66/The_Leaning_Tower_of_Pisa_SB.jpeg/590px-The_Leaning_Tower_of_Pisa_SB.jpeg\n",
            "Resolving upload.wikimedia.org (upload.wikimedia.org)... 91.198.174.208, 2620:0:862:ed1a::2:b\n",
            "Connecting to upload.wikimedia.org (upload.wikimedia.org)|91.198.174.208|:443... connected.\n",
            "HTTP request sent, awaiting response... 200 OK\n",
            "Length: 134815 (132K) [image/jpeg]\n",
            "Saving to: ‘pisa_kulesi_1.jpeg’\n",
            "\n",
            "pisa_kulesi_1.jpeg  100%[===================>] 131.66K  --.-KB/s    in 0.01s   \n",
            "\n",
            "2019-03-20 23:06:27 (8.84 MB/s) - ‘pisa_kulesi_1.jpeg’ saved [134815/134815]\n",
            "\n",
            "--2019-03-20 23:06:29--  https://upload.wikimedia.org/wikipedia/commons/thumb/9/9f/Leaning_Tower_of_Pisa_%281%29.jpg/597px-Leaning_Tower_of_Pisa_%281%29.jpg\n",
            "Resolving upload.wikimedia.org (upload.wikimedia.org)... 91.198.174.208, 2620:0:862:ed1a::2:b\n",
            "Connecting to upload.wikimedia.org (upload.wikimedia.org)|91.198.174.208|:443... connected.\n",
            "HTTP request sent, awaiting response... 200 OK\n",
            "Length: 102603 (100K) [image/jpeg]\n",
            "Saving to: ‘pisa_kulesi_2.jpg’\n",
            "\n",
            "pisa_kulesi_2.jpg   100%[===================>] 100.20K  --.-KB/s    in 0.01s   \n",
            "\n",
            "2019-03-20 23:06:29 (7.68 MB/s) - ‘pisa_kulesi_2.jpg’ saved [102603/102603]\n",
            "\n",
            "--2019-03-20 23:06:31--  https://cdn.pixabay.com/photo/2015/10/06/18/26/eiffel-tower-975004_1280.jpg\n",
            "Resolving cdn.pixabay.com (cdn.pixabay.com)... 172.64.167.20, 172.64.166.20, 2606:4700:e4::ac40:a614, ...\n",
            "Connecting to cdn.pixabay.com (cdn.pixabay.com)|172.64.167.20|:443... connected.\n",
            "HTTP request sent, awaiting response... 200 OK\n",
            "Length: 325535 (318K) [image/jpeg]\n",
            "Saving to: ‘eiffel_kulesi_1.jpg’\n",
            "\n",
            "eiffel_kulesi_1.jpg 100%[===================>] 317.91K  --.-KB/s    in 0.02s   \n",
            "\n",
            "2019-03-20 23:06:31 (17.3 MB/s) - ‘eiffel_kulesi_1.jpg’ saved [325535/325535]\n",
            "\n",
            "--2019-03-20 23:06:33--  https://www.maxpixel.net/static/photo/1x/Eiffel-Tower-Paris-France-3665732.jpg\n",
            "Resolving www.maxpixel.net (www.maxpixel.net)... 23.227.178.34\n",
            "Connecting to www.maxpixel.net (www.maxpixel.net)|23.227.178.34|:443... connected.\n",
            "HTTP request sent, awaiting response... 200 OK\n",
            "Length: unspecified [image/jpeg]\n",
            "Saving to: ‘eiffel_kulesi_2.jpg’\n",
            "\n",
            "eiffel_kulesi_2.jpg     [ <=>                ]  72.16K  --.-KB/s    in 0.1s    \n",
            "\n",
            "2019-03-20 23:06:33 (483 KB/s) - ‘eiffel_kulesi_2.jpg’ saved [73893]\n",
            "\n"
          ],
          "name": "stdout"
        }
      ]
    },
    {
      "metadata": {
        "id": "tMW2XDLwNaiY",
        "colab_type": "code",
        "colab": {}
      },
      "cell_type": "code",
      "source": [
        "import cv2"
      ],
      "execution_count": 0,
      "outputs": []
    },
    {
      "metadata": {
        "id": "wTT1aHHRa7bA",
        "colab_type": "code",
        "outputId": "6881310a-86db-42d0-eeaf-dbc84bd7f375",
        "colab": {
          "base_uri": "https://localhost:8080/",
          "height": 218
        }
      },
      "cell_type": "code",
      "source": [
        "# Çok az sayıda resmimimiz olduğu için \"hard coded\" bir şekilde resimleri okuyalım ve bunları hash algoritmasından geçirip bir dictionary'ye kaydedelim\n",
        "\n",
        "imge_adlari = [\"saat_kulesi_1.jpg\", \"saat_kulesi_2.jpg\", \"pisa_kulesi_1.jpeg\", \"pisa_kulesi_2.jpg\", \"eiffel_kulesi_1.jpg\", \"eiffel_kulesi_2.jpg\"]\n",
        "\n",
        "labels = [\"saat\", \"saat\", \"pisa\", \"pisa\", \"eiffel\", \"eiffel\"]\n",
        "\n",
        "imgeler_dict = {}\n",
        "\n",
        "for ad in imge_adlari:\n",
        "  imge = cv2.imread(ad)\n",
        "  imge = cv2.resize(imge, (500, 500)) \n",
        "  print(imge.shape)\n",
        "  anahtar = tuple(cv2.img_hash.pHash(imge).tolist()[0])\n",
        "  imgeler_dict[anahtar] = ad\n",
        "  \n",
        "  print(len(imgeler_dict.keys()))\n",
        "  "
      ],
      "execution_count": 5,
      "outputs": [
        {
          "output_type": "stream",
          "text": [
            "(500, 500, 3)\n",
            "1\n",
            "(500, 500, 3)\n",
            "2\n",
            "(500, 500, 3)\n",
            "3\n",
            "(500, 500, 3)\n",
            "4\n",
            "(500, 500, 3)\n",
            "5\n",
            "(500, 500, 3)\n",
            "6\n"
          ],
          "name": "stdout"
        }
      ]
    },
    {
      "metadata": {
        "id": "UejHE5h0Lr6z",
        "colab_type": "code",
        "colab": {
          "base_uri": "https://localhost:8080/",
          "height": 118
        },
        "outputId": "d4df9cc6-cc91-4e3e-b656-a41f80fc9167"
      },
      "cell_type": "code",
      "source": [
        "#Hashmapimizi inceleyelim \n",
        "imgeler_dict"
      ],
      "execution_count": 6,
      "outputs": [
        {
          "output_type": "execute_result",
          "data": {
            "text/plain": [
              "{(60, 13, 162, 205, 66, 179, 69, 178): 'pisa_kulesi_2.jpg',\n",
              " (97, 209, 152, 126, 131, 236, 151, 111): 'saat_kulesi_1.jpg',\n",
              " (147, 206, 88, 173, 230, 122, 207, 51): 'pisa_kulesi_1.jpeg',\n",
              " (210, 101, 13, 142, 178, 144, 152, 101): 'saat_kulesi_2.jpg',\n",
              " (225, 155, 184, 103, 54, 225, 158, 252): 'eiffel_kulesi_1.jpg',\n",
              " (235, 207, 154, 186, 239, 206, 248, 191): 'eiffel_kulesi_2.jpg'}"
            ]
          },
          "metadata": {
            "tags": []
          },
          "execution_count": 6
        }
      ]
    },
    {
      "metadata": {
        "id": "RpiNX-RpznRJ",
        "colab_type": "code",
        "colab": {}
      },
      "cell_type": "code",
      "source": [
        "\n",
        "\n"
      ],
      "execution_count": 0,
      "outputs": []
    },
    {
      "metadata": {
        "id": "9vikzwlhztKg",
        "colab_type": "code",
        "colab": {}
      },
      "cell_type": "code",
      "source": [
        ""
      ],
      "execution_count": 0,
      "outputs": []
    },
    {
      "metadata": {
        "id": "Cio-wRLM25kf",
        "colab_type": "code",
        "colab": {}
      },
      "cell_type": "code",
      "source": [
        ""
      ],
      "execution_count": 0,
      "outputs": []
    }
  ]
}