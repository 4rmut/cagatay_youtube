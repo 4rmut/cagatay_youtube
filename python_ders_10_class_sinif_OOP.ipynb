{
  "nbformat": 4,
  "nbformat_minor": 0,
  "metadata": {
    "colab": {
      "name": "python_ders_10_class_sinif_OOP.ipynb",
      "provenance": [],
      "collapsed_sections": []
    },
    "kernelspec": {
      "name": "python3",
      "display_name": "Python 3"
    }
  },
  "cells": [
    {
      "cell_type": "markdown",
      "metadata": {
        "id": "wU3mqGDiALMk",
        "colab_type": "text"
      },
      "source": [
        "**Class/sınıf nedir?**"
      ]
    },
    {
      "cell_type": "code",
      "metadata": {
        "id": "5IDBw44uAQpq",
        "colab_type": "code",
        "colab": {}
      },
      "source": [
        "class Araba(object):\n",
        "  pass"
      ],
      "execution_count": 0,
      "outputs": []
    },
    {
      "cell_type": "code",
      "metadata": {
        "id": "MhnNAd8iFpFp",
        "colab_type": "code",
        "outputId": "fd0905c9-4bd0-44e9-a1fc-85ee3e197621",
        "colab": {
          "base_uri": "https://localhost:8080/",
          "height": 36
        }
      },
      "source": [
        "a = \"cagatay\"\n",
        "\n",
        "print(type(a))"
      ],
      "execution_count": 0,
      "outputs": [
        {
          "output_type": "stream",
          "text": [
            "<class 'str'>\n"
          ],
          "name": "stdout"
        }
      ]
    },
    {
      "cell_type": "code",
      "metadata": {
        "id": "A4cFATQtA_kx",
        "colab_type": "code",
        "colab": {}
      },
      "source": [
        "benim_arabam = Araba()"
      ],
      "execution_count": 0,
      "outputs": []
    },
    {
      "cell_type": "code",
      "metadata": {
        "id": "lENM3jgUKZJe",
        "colab_type": "code",
        "outputId": "c9a207d1-9d0e-4cb9-ed2d-9f1a650cbd8d",
        "colab": {
          "base_uri": "https://localhost:8080/",
          "height": 36
        }
      },
      "source": [
        "print(type(benim_arabam))"
      ],
      "execution_count": 0,
      "outputs": [
        {
          "output_type": "stream",
          "text": [
            "<class '__main__.Araba'>\n"
          ],
          "name": "stdout"
        }
      ]
    },
    {
      "cell_type": "markdown",
      "metadata": {
        "id": "XvtknQfkCRz5",
        "colab_type": "text"
      },
      "source": [
        "**Object attribute vs. Class attribute, bu arada attribute ne ya?**"
      ]
    },
    {
      "cell_type": "code",
      "metadata": {
        "id": "jg5HRt40CfaG",
        "colab_type": "code",
        "colab": {}
      },
      "source": [
        "class Araba(object):\n",
        "\n",
        "  teker_sayisi = 4\n",
        "\n",
        "  def __init__(self):\n",
        "    print(\"Hey ben buradayim\")\n",
        "    self.uretim_yili = 2019\n",
        "    self.max_hiz = 200 \n",
        "    self.plaka = '35 cagbal 35'"
      ],
      "execution_count": 0,
      "outputs": []
    },
    {
      "cell_type": "code",
      "metadata": {
        "id": "fzvR_exODkdl",
        "colab_type": "code",
        "outputId": "be6a4f0a-2f3e-4691-d1f5-fe811e9437ff",
        "colab": {
          "base_uri": "https://localhost:8080/",
          "height": 36
        }
      },
      "source": [
        "print(Araba.teker_sayisi) # class attribute"
      ],
      "execution_count": 0,
      "outputs": [
        {
          "output_type": "stream",
          "text": [
            "4\n"
          ],
          "name": "stdout"
        }
      ]
    },
    {
      "cell_type": "code",
      "metadata": {
        "id": "d7pQY8VNEE7M",
        "colab_type": "code",
        "outputId": "71c84885-e68d-476e-f53c-34503482da55",
        "colab": {
          "base_uri": "https://localhost:8080/",
          "height": 174
        }
      },
      "source": [
        "print(Araba.uretim_yili) # object attribute"
      ],
      "execution_count": 0,
      "outputs": [
        {
          "output_type": "error",
          "ename": "AttributeError",
          "evalue": "ignored",
          "traceback": [
            "\u001b[0;31m---------------------------------------------------------------------------\u001b[0m",
            "\u001b[0;31mAttributeError\u001b[0m                            Traceback (most recent call last)",
            "\u001b[0;32m<ipython-input-15-6b195c8efbb4>\u001b[0m in \u001b[0;36m<module>\u001b[0;34m()\u001b[0m\n\u001b[0;32m----> 1\u001b[0;31m \u001b[0mprint\u001b[0m\u001b[0;34m(\u001b[0m\u001b[0mAraba\u001b[0m\u001b[0;34m.\u001b[0m\u001b[0muretim_yili\u001b[0m\u001b[0;34m)\u001b[0m \u001b[0;31m# object attribute\u001b[0m\u001b[0;34m\u001b[0m\u001b[0;34m\u001b[0m\u001b[0m\n\u001b[0m",
            "\u001b[0;31mAttributeError\u001b[0m: type object 'Araba' has no attribute 'uretim_yili'"
          ]
        }
      ]
    },
    {
      "cell_type": "code",
      "metadata": {
        "id": "wWIYVFnLE5-0",
        "colab_type": "code",
        "outputId": "5b24b312-e9f1-4697-ea87-88897dab9051",
        "colab": {
          "base_uri": "https://localhost:8080/",
          "height": 73
        }
      },
      "source": [
        "benim_arabam = Araba()\n",
        "\n",
        "print(benim_arabam.uretim_yili)\n",
        "\n",
        "print(benim_arabam.teker_sayisi)"
      ],
      "execution_count": 0,
      "outputs": [
        {
          "output_type": "stream",
          "text": [
            "Hey ben buradayim\n",
            "2019\n",
            "4\n"
          ],
          "name": "stdout"
        }
      ]
    },
    {
      "cell_type": "code",
      "metadata": {
        "id": "0vURNBNFIjJx",
        "colab_type": "code",
        "outputId": "02a7307a-f1b9-4953-be65-e66dcf3dea02",
        "colab": {
          "base_uri": "https://localhost:8080/",
          "height": 36
        }
      },
      "source": [
        "print(benim_arabam)"
      ],
      "execution_count": 0,
      "outputs": [
        {
          "output_type": "stream",
          "text": [
            "<__main__.Araba object at 0x7f846426db00>\n"
          ],
          "name": "stdout"
        }
      ]
    },
    {
      "cell_type": "markdown",
      "metadata": {
        "id": "gdnJIPxhEPX_",
        "colab_type": "text"
      },
      "source": [
        "**Araba sinifimizi cesitlendirelim, yeni arabalar ekleyelim**"
      ]
    },
    {
      "cell_type": "code",
      "metadata": {
        "id": "qVIVRZ8NEY7q",
        "colab_type": "code",
        "colab": {}
      },
      "source": [
        "class Araba(object):\n",
        "\n",
        "  teker_sayisi = 4\n",
        "\n",
        "  def __init__(self, uretim_yili, max_hiz, plaka):\n",
        "    self.uretim_yili = uretim_yili\n",
        "    self.max_hiz = max_hiz\n",
        "    self.plaka = plaka\n",
        "\n",
        "  def __str__(self):\n",
        "    return \"Araba objesi: uretim yili: {}, max_hiz: {}, plaka: {}\"\\\n",
        "        .format(self.uretim_yili, self.max_hiz, self.plaka)"
      ],
      "execution_count": 0,
      "outputs": []
    },
    {
      "cell_type": "code",
      "metadata": {
        "id": "wR-4O6ZUItJp",
        "colab_type": "code",
        "outputId": "e357a046-5383-4d90-8c00-0c32b38cc98e",
        "colab": {
          "base_uri": "https://localhost:8080/",
          "height": 174
        }
      },
      "source": [
        "benim_arabam = Araba()"
      ],
      "execution_count": 0,
      "outputs": [
        {
          "output_type": "error",
          "ename": "TypeError",
          "evalue": "ignored",
          "traceback": [
            "\u001b[0;31m---------------------------------------------------------------------------\u001b[0m",
            "\u001b[0;31mTypeError\u001b[0m                                 Traceback (most recent call last)",
            "\u001b[0;32m<ipython-input-22-a61c987834fd>\u001b[0m in \u001b[0;36m<module>\u001b[0;34m()\u001b[0m\n\u001b[0;32m----> 1\u001b[0;31m \u001b[0mbenim_arabam\u001b[0m \u001b[0;34m=\u001b[0m \u001b[0mAraba\u001b[0m\u001b[0;34m(\u001b[0m\u001b[0;34m)\u001b[0m\u001b[0;34m\u001b[0m\u001b[0;34m\u001b[0m\u001b[0m\n\u001b[0m",
            "\u001b[0;31mTypeError\u001b[0m: __init__() missing 3 required positional arguments: 'uretim_yili', 'max_hiz', and 'plaka'"
          ]
        }
      ]
    },
    {
      "cell_type": "code",
      "metadata": {
        "id": "pCctcQ_TEtRF",
        "colab_type": "code",
        "outputId": "06f0cc6a-f1f6-4dad-b482-36e887f5712c",
        "colab": {
          "base_uri": "https://localhost:8080/",
          "height": 54
        }
      },
      "source": [
        "benim_arabam = Araba(2018, 180, \"34 cagatay 34\")\n",
        "senin_araban = Araba(2010, 150, \"52 ahmet 52\")\n",
        "\n",
        "print(benim_arabam)\n",
        "print(senin_araban)"
      ],
      "execution_count": 0,
      "outputs": [
        {
          "output_type": "stream",
          "text": [
            "Araba objesi: uretim yili: 2018, max_hiz: 180, plaka: 34 cagatay 34\n",
            "Araba objesi: uretim yili: 2010, max_hiz: 150, plaka: 52 ahmet 52\n"
          ],
          "name": "stdout"
        }
      ]
    },
    {
      "cell_type": "markdown",
      "metadata": {
        "id": "f2CUtK_9GbeE",
        "colab_type": "text"
      },
      "source": [
        "**Yeni bir model olusturalim**"
      ]
    },
    {
      "cell_type": "code",
      "metadata": {
        "id": "2VK2B9fbGhcK",
        "colab_type": "code",
        "colab": {}
      },
      "source": [
        "class Mercedes(Araba):\n",
        "\n",
        "  def __init__(self, uretim_yili, max_hiz, plaka):\n",
        "    pass"
      ],
      "execution_count": 0,
      "outputs": []
    },
    {
      "cell_type": "code",
      "metadata": {
        "id": "6tXQ7hKDGu7v",
        "colab_type": "code",
        "outputId": "bb93e3d1-255f-49d7-8846-cf72bbf6be77",
        "colab": {
          "base_uri": "https://localhost:8080/",
          "height": 36
        }
      },
      "source": [
        "benim_arabam = Mercedes(2019,150, \"34 cagatay 35\")\n",
        "\n",
        "print(type(benim_arabam))"
      ],
      "execution_count": 0,
      "outputs": [
        {
          "output_type": "stream",
          "text": [
            "<class '__main__.Mercedes'>\n"
          ],
          "name": "stdout"
        }
      ]
    },
    {
      "cell_type": "code",
      "metadata": {
        "id": "d16rJD9qGzn6",
        "colab_type": "code",
        "colab": {}
      },
      "source": [
        "class Mercedes(Araba):\n",
        "\n",
        "  marka = \"Mercedes\"\n",
        "\n",
        "  def __init__(self, uretim_yili, max_hiz, plaka):\n",
        "    super(Mercedes, self).__init__(uretim_yili, max_hiz, plaka)\n",
        "\n",
        "  def __str__(self):\n",
        "    return \"{} objesi: uretim yili: {}, max_hiz: {}, plaka: {}\"\\\n",
        "        .format(self.marka, self.uretim_yili, self.max_hiz, self.plaka)\n",
        "\n",
        "\n",
        "class BMW(Araba):\n",
        "\n",
        "  marka = \"BMW\"\n",
        "\n",
        "  def __init__(self, uretim_yili, max_hiz, plaka):\n",
        "    super(BMW, self).__init__(uretim_yili, max_hiz, plaka)\n",
        "\n",
        "  def __str__(self):\n",
        "    return \"{} objesi: uretim yili: {}, max_hiz: {}, plaka: {}\"\\\n",
        "        .format(self.marka, self.uretim_yili, self.max_hiz, self.plaka)"
      ],
      "execution_count": 0,
      "outputs": []
    },
    {
      "cell_type": "code",
      "metadata": {
        "id": "oWeUHJ0SG8KQ",
        "colab_type": "code",
        "outputId": "2abca484-4dae-4ba4-cc7d-baeb33d75a10",
        "colab": {
          "base_uri": "https://localhost:8080/",
          "height": 54
        }
      },
      "source": [
        "benim_arabam = Mercedes(2019, 220, \"34 cagatay 35\")\n",
        "\n",
        "senin_araban = BMW(2018, 220, \"35 cagbal 34\")\n",
        "\n",
        "print(benim_arabam)\n",
        "\n",
        "print(senin_araban)"
      ],
      "execution_count": 0,
      "outputs": [
        {
          "output_type": "stream",
          "text": [
            "Mercedes objesi: uretim yili: 2019, max_hiz: 220, plaka: 34 cagatay 35\n",
            "BMW objesi: uretim yili: 2018, max_hiz: 220, plaka: 35 cagbal 34\n"
          ],
          "name": "stdout"
        }
      ]
    },
    {
      "cell_type": "markdown",
      "metadata": {
        "id": "7fgCHk-VLP-N",
        "colab_type": "text"
      },
      "source": [
        "**Data encapsulation**"
      ]
    },
    {
      "cell_type": "code",
      "metadata": {
        "id": "KzDtPMHGHAoW",
        "colab_type": "code",
        "colab": {}
      },
      "source": [
        "class Mercedes(Araba):\n",
        "\n",
        "  marka = \"Mercedes\"\n",
        "\n",
        "  def __init__(self, uretim_yili, max_hiz, plaka):\n",
        "    super(Mercedes, self).__init__(uretim_yili, max_hiz, plaka)\n",
        "\n",
        "    self.cruise_control = False\n",
        "\n",
        "  def __str__(self):\n",
        "    return \"{} objesi: uretim yili: {}, max_hiz: {}, plaka: {}\"\\\n",
        "        .format(self.marka, self.uretim_yili, self.max_hiz, self.plaka)\n",
        "\n",
        "  def cruise_control_ac(self):\n",
        "    self.cruise_control = True \n",
        "    print(\"Cruise control aktif\")\n",
        "\n",
        "  def cruise_control_kapat(self):\n",
        "    self.cruise_control = False \n",
        "    print(\"Cruise control pasif\")\n",
        "\n",
        "\n",
        "class BMW(Araba):\n",
        "\n",
        "  marka = \"BMW\"\n",
        "\n",
        "  def __init__(self, uretim_yili, max_hiz, plaka):\n",
        "    super(BMW, self).__init__(uretim_yili, max_hiz, plaka)\n",
        "\n",
        "  def __str__(self):\n",
        "    return \"{} objesi: uretim yili: {}, max_hiz: {}, plaka: {}\"\\\n",
        "        .format(self.marka, self.uretim_yili, self.max_hiz, self.plaka)"
      ],
      "execution_count": 0,
      "outputs": []
    },
    {
      "cell_type": "code",
      "metadata": {
        "id": "R_EKWvSBJx3J",
        "colab_type": "code",
        "colab": {}
      },
      "source": [
        "benim_arabam = Mercedes(2019, 220, \"34 cagatay 35\") \n",
        "senin_araban = BMW(2018, 220, \"35 cagbal 34\")\n",
        "\n"
      ],
      "execution_count": 0,
      "outputs": []
    },
    {
      "cell_type": "code",
      "metadata": {
        "id": "PQZwME_6J-Wx",
        "colab_type": "code",
        "outputId": "a34862b9-20b5-466b-f168-1420555b7492",
        "colab": {
          "base_uri": "https://localhost:8080/",
          "height": 36
        }
      },
      "source": [
        "benim_arabam.cruise_control_ac()"
      ],
      "execution_count": 0,
      "outputs": [
        {
          "output_type": "stream",
          "text": [
            "Cruise control aktif\n"
          ],
          "name": "stdout"
        }
      ]
    },
    {
      "cell_type": "code",
      "metadata": {
        "id": "z4YGkvLUKMgn",
        "colab_type": "code",
        "outputId": "9abe8708-c584-4611-f2a2-ef411be5b8de",
        "colab": {
          "base_uri": "https://localhost:8080/",
          "height": 174
        }
      },
      "source": [
        "senin_araban.cruise_control_ac()"
      ],
      "execution_count": 0,
      "outputs": [
        {
          "output_type": "error",
          "ename": "AttributeError",
          "evalue": "ignored",
          "traceback": [
            "\u001b[0;31m---------------------------------------------------------------------------\u001b[0m",
            "\u001b[0;31mAttributeError\u001b[0m                            Traceback (most recent call last)",
            "\u001b[0;32m<ipython-input-33-59c4a81259c4>\u001b[0m in \u001b[0;36m<module>\u001b[0;34m()\u001b[0m\n\u001b[0;32m----> 1\u001b[0;31m \u001b[0msenin_araban\u001b[0m\u001b[0;34m.\u001b[0m\u001b[0mcruise_control_ac\u001b[0m\u001b[0;34m(\u001b[0m\u001b[0;34m)\u001b[0m\u001b[0;34m\u001b[0m\u001b[0;34m\u001b[0m\u001b[0m\n\u001b[0m",
            "\u001b[0;31mAttributeError\u001b[0m: 'BMW' object has no attribute 'cruise_control_ac'"
          ]
        }
      ]
    },
    {
      "cell_type": "markdown",
      "metadata": {
        "id": "v-lCV4LPKrbX",
        "colab_type": "text"
      },
      "source": [
        "**isinstance**"
      ]
    },
    {
      "cell_type": "code",
      "metadata": {
        "id": "YtkPTiZZKmnw",
        "colab_type": "code",
        "outputId": "69f750ae-23d3-4bd6-fe7f-22c2f78be55b",
        "colab": {
          "base_uri": "https://localhost:8080/",
          "height": 36
        }
      },
      "source": [
        "print(isinstance(benim_arabam, Mercedes))"
      ],
      "execution_count": 0,
      "outputs": [
        {
          "output_type": "stream",
          "text": [
            "True\n"
          ],
          "name": "stdout"
        }
      ]
    },
    {
      "cell_type": "code",
      "metadata": {
        "id": "iJ19Ol1_K1XK",
        "colab_type": "code",
        "outputId": "2471c758-d2d4-4ab6-eb12-b6b5c15a5fa8",
        "colab": {
          "base_uri": "https://localhost:8080/",
          "height": 36
        }
      },
      "source": [
        "print(isinstance(benim_arabam, Araba))"
      ],
      "execution_count": 0,
      "outputs": [
        {
          "output_type": "stream",
          "text": [
            "True\n"
          ],
          "name": "stdout"
        }
      ]
    },
    {
      "cell_type": "code",
      "metadata": {
        "id": "sEAfDkdtK3Fg",
        "colab_type": "code",
        "outputId": "599065be-112f-4536-e924-987ea53e0e60",
        "colab": {
          "base_uri": "https://localhost:8080/",
          "height": 36
        }
      },
      "source": [
        "print(isinstance(benim_arabam, BMW))"
      ],
      "execution_count": 0,
      "outputs": [
        {
          "output_type": "stream",
          "text": [
            "False\n"
          ],
          "name": "stdout"
        }
      ]
    },
    {
      "cell_type": "code",
      "metadata": {
        "id": "0wGT7LenMnnV",
        "colab_type": "code",
        "outputId": "945ce52e-c38b-44ad-b665-15f461c1b39f",
        "colab": {
          "base_uri": "https://localhost:8080/",
          "height": 36
        }
      },
      "source": [
        "print(isinstance(senin_araban, BMW))"
      ],
      "execution_count": 0,
      "outputs": [
        {
          "output_type": "stream",
          "text": [
            "True\n"
          ],
          "name": "stdout"
        }
      ]
    }
  ]
}