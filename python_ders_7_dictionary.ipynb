{
  "nbformat": 4,
  "nbformat_minor": 0,
  "metadata": {
    "colab": {
      "name": "python_ders_7_dictionary.ipynb",
      "provenance": [],
      "collapsed_sections": []
    },
    "kernelspec": {
      "name": "python3",
      "display_name": "Python 3"
    }
  },
  "cells": [
    {
      "cell_type": "markdown",
      "metadata": {
        "id": "bTlBZhgCfHwH",
        "colab_type": "text"
      },
      "source": [
        "# Dictionary\n",
        "\n",
        "\n",
        "1.   Düzensiz\n",
        "2.   Key: Tekrar edemez, değer: tekrar edebilir \n",
        "3.   Mutable (Değiştirilebilir)\n",
        "\n",
        "\n",
        "\n"
      ]
    },
    {
      "cell_type": "markdown",
      "metadata": {
        "id": "kvOSkQsv1Hb_",
        "colab_type": "text"
      },
      "source": [
        "**oluşturmak**"
      ]
    },
    {
      "cell_type": "code",
      "metadata": {
        "id": "wet1n0ABUzd2",
        "colab_type": "code",
        "colab": {}
      },
      "source": [
        "a = {1:\"cagatay\", 2:\"istanbul\", 3:\"uzay\"}"
      ],
      "execution_count": 0,
      "outputs": []
    },
    {
      "cell_type": "code",
      "metadata": {
        "id": "ElnjemiEVAkG",
        "colab_type": "code",
        "outputId": "87ae68d7-886e-4049-9cc4-78f5cff7a43f",
        "colab": {
          "base_uri": "https://localhost:8080/",
          "height": 36
        }
      },
      "source": [
        "print(type(a))"
      ],
      "execution_count": 0,
      "outputs": [
        {
          "output_type": "stream",
          "text": [
            "<class 'dict'>\n"
          ],
          "name": "stdout"
        }
      ]
    },
    {
      "cell_type": "code",
      "metadata": {
        "id": "u-UOib9SVO7v",
        "colab_type": "code",
        "outputId": "706a2003-142b-4e3e-f49d-841e507fafb2",
        "colab": {
          "base_uri": "https://localhost:8080/",
          "height": 36
        }
      },
      "source": [
        "print(a)"
      ],
      "execution_count": 0,
      "outputs": [
        {
          "output_type": "stream",
          "text": [
            "{1: 'cagatay', 2: 'istanbul', 3: 'uzay'}\n"
          ],
          "name": "stdout"
        }
      ]
    },
    {
      "cell_type": "markdown",
      "metadata": {
        "id": "qdtDl27vsRgI",
        "colab_type": "text"
      },
      "source": [
        "**eklemek**"
      ]
    },
    {
      "cell_type": "code",
      "metadata": {
        "id": "ZrxBzLigVfq-",
        "colab_type": "code",
        "outputId": "a78d27de-22a6-429e-c4a6-2822a5570c09",
        "colab": {
          "base_uri": "https://localhost:8080/",
          "height": 36
        }
      },
      "source": [
        "a[4] = \"mercedes\"\n",
        "\n",
        "a[\"cagatay\"] = 5\n",
        "\n",
        "a[(1,2)] = 3\n",
        "\n",
        "print(a)"
      ],
      "execution_count": 0,
      "outputs": [
        {
          "output_type": "stream",
          "text": [
            "{1: 'cagatay', 2: 'istanbul', 3: 'uzay', 4: 'mercedes', 'cagatay': 5, (1, 2): 3}\n"
          ],
          "name": "stdout"
        }
      ]
    },
    {
      "cell_type": "markdown",
      "metadata": {
        "id": "G_mkxkMn1K-N",
        "colab_type": "text"
      },
      "source": [
        "**elemana ulaşmak**"
      ]
    },
    {
      "cell_type": "code",
      "metadata": {
        "id": "PdkmJHFEWGCm",
        "colab_type": "code",
        "outputId": "fe27666e-bd96-47d4-838e-7268ccbfc10d",
        "colab": {
          "base_uri": "https://localhost:8080/",
          "height": 36
        }
      },
      "source": [
        "print(a[(1,2)])"
      ],
      "execution_count": 0,
      "outputs": [
        {
          "output_type": "stream",
          "text": [
            "3\n"
          ],
          "name": "stdout"
        }
      ]
    },
    {
      "cell_type": "markdown",
      "metadata": {
        "id": "HHznOr921OXh",
        "colab_type": "text"
      },
      "source": [
        "**üstünde gezinmek**"
      ]
    },
    {
      "cell_type": "code",
      "metadata": {
        "id": "CusLPGG4WN9W",
        "colab_type": "code",
        "outputId": "41dea264-a257-4d3f-dc4c-7684b4b28f92",
        "colab": {
          "base_uri": "https://localhost:8080/",
          "height": 129
        }
      },
      "source": [
        "for el in a:\n",
        "  print(el)"
      ],
      "execution_count": 0,
      "outputs": [
        {
          "output_type": "stream",
          "text": [
            "1\n",
            "2\n",
            "3\n",
            "4\n",
            "cagatay\n",
            "(1, 2)\n"
          ],
          "name": "stdout"
        }
      ]
    },
    {
      "cell_type": "code",
      "metadata": {
        "id": "_pzjd_JkWV0X",
        "colab_type": "code",
        "outputId": "40cb55e4-4510-42f1-d4cd-4b23b94c2acc",
        "colab": {
          "base_uri": "https://localhost:8080/",
          "height": 129
        }
      },
      "source": [
        "for el in a:\n",
        "  print(a[el])"
      ],
      "execution_count": 0,
      "outputs": [
        {
          "output_type": "stream",
          "text": [
            "cagatay\n",
            "istanbul\n",
            "uzay\n",
            "mercedes\n",
            "5\n",
            "3\n"
          ],
          "name": "stdout"
        }
      ]
    },
    {
      "cell_type": "code",
      "metadata": {
        "id": "jds9zF4DWa_O",
        "colab_type": "code",
        "outputId": "04de0ad6-1a86-4934-9faa-9faf996a6ae8",
        "colab": {
          "base_uri": "https://localhost:8080/",
          "height": 129
        }
      },
      "source": [
        "for el in a.values():\n",
        "  print(el)"
      ],
      "execution_count": 0,
      "outputs": [
        {
          "output_type": "stream",
          "text": [
            "cagatay\n",
            "istanbul\n",
            "uzay\n",
            "mercedes\n",
            "5\n",
            "3\n"
          ],
          "name": "stdout"
        }
      ]
    },
    {
      "cell_type": "code",
      "metadata": {
        "id": "gwBQuRbrWn4C",
        "colab_type": "code",
        "outputId": "4970c215-48a3-484d-d2a6-b60f368867f1",
        "colab": {
          "base_uri": "https://localhost:8080/",
          "height": 129
        }
      },
      "source": [
        "for el in a.keys():\n",
        "  print(el)"
      ],
      "execution_count": 0,
      "outputs": [
        {
          "output_type": "stream",
          "text": [
            "1\n",
            "2\n",
            "3\n",
            "4\n",
            "cagatay\n",
            "(1, 2)\n"
          ],
          "name": "stdout"
        }
      ]
    },
    {
      "cell_type": "code",
      "metadata": {
        "id": "NHE75fYXWsN_",
        "colab_type": "code",
        "outputId": "4e59d759-3d93-4e31-abd0-d613d06820ca",
        "colab": {
          "base_uri": "https://localhost:8080/",
          "height": 129
        }
      },
      "source": [
        "for key, deger in a.items():\n",
        "  print(key, deger)"
      ],
      "execution_count": 0,
      "outputs": [
        {
          "output_type": "stream",
          "text": [
            "1 cagatay\n",
            "2 istanbul\n",
            "3 uzay\n",
            "4 mercedes\n",
            "cagatay 5\n",
            "(1, 2) 3\n"
          ],
          "name": "stdout"
        }
      ]
    },
    {
      "cell_type": "markdown",
      "metadata": {
        "colab_type": "text",
        "id": "HXgOC2E9sP20"
      },
      "source": [
        "**remove**"
      ]
    },
    {
      "cell_type": "code",
      "metadata": {
        "id": "AipAuLVnWaGg",
        "colab_type": "code",
        "colab": {}
      },
      "source": [
        "del a[\"cagatay\"]"
      ],
      "execution_count": 0,
      "outputs": []
    },
    {
      "cell_type": "code",
      "metadata": {
        "id": "OWfZalIxXGOi",
        "colab_type": "code",
        "outputId": "7f0528b9-69b8-4815-998b-d2e349ea038d",
        "colab": {
          "base_uri": "https://localhost:8080/",
          "height": 36
        }
      },
      "source": [
        "print(a)"
      ],
      "execution_count": 0,
      "outputs": [
        {
          "output_type": "stream",
          "text": [
            "{1: 'cagatay', 2: 'istanbul', 3: 'uzay', 4: 'mercedes', (1, 2): 3}\n"
          ],
          "name": "stdout"
        }
      ]
    },
    {
      "cell_type": "markdown",
      "metadata": {
        "id": "waYpjw6j1wdY",
        "colab_type": "text"
      },
      "source": [
        "**in**"
      ]
    },
    {
      "cell_type": "code",
      "metadata": {
        "id": "7HQUMQEtXOzB",
        "colab_type": "code",
        "outputId": "50e7839a-5eda-47d3-a35c-2982c2e2a29c",
        "colab": {
          "base_uri": "https://localhost:8080/",
          "height": 36
        }
      },
      "source": [
        "\"cagatay\" in a"
      ],
      "execution_count": 0,
      "outputs": [
        {
          "output_type": "execute_result",
          "data": {
            "text/plain": [
              "False"
            ]
          },
          "metadata": {
            "tags": []
          },
          "execution_count": 29
        }
      ]
    },
    {
      "cell_type": "code",
      "metadata": {
        "id": "kdeMjJRBXRuQ",
        "colab_type": "code",
        "outputId": "da8913ff-420f-4bc5-daf1-5b30b6927b5c",
        "colab": {
          "base_uri": "https://localhost:8080/",
          "height": 36
        }
      },
      "source": [
        "1 in a "
      ],
      "execution_count": 0,
      "outputs": [
        {
          "output_type": "execute_result",
          "data": {
            "text/plain": [
              "True"
            ]
          },
          "metadata": {
            "tags": []
          },
          "execution_count": 30
        }
      ]
    },
    {
      "cell_type": "code",
      "metadata": {
        "id": "zHD7yU20XT6a",
        "colab_type": "code",
        "outputId": "a323a5dd-9315-4c14-c7bd-91052262f73e",
        "colab": {
          "base_uri": "https://localhost:8080/",
          "height": 36
        }
      },
      "source": [
        "(1,2) in a"
      ],
      "execution_count": 0,
      "outputs": [
        {
          "output_type": "execute_result",
          "data": {
            "text/plain": [
              "True"
            ]
          },
          "metadata": {
            "tags": []
          },
          "execution_count": 31
        }
      ]
    },
    {
      "cell_type": "code",
      "metadata": {
        "id": "2vwlYJtpXWLB",
        "colab_type": "code",
        "colab": {}
      },
      "source": [
        "a = {\n",
        "    1 : [1,3],\n",
        "    2 : [],\n",
        "    3 : [4, 5],\n",
        "    4 : [1],\n",
        "    5 : []\n",
        "}"
      ],
      "execution_count": 0,
      "outputs": []
    },
    {
      "cell_type": "code",
      "metadata": {
        "id": "sjl5OJ9_X9Sl",
        "colab_type": "code",
        "outputId": "a5bf22fe-28aa-4ba3-8e96-ef8e6216940c",
        "colab": {
          "base_uri": "https://localhost:8080/",
          "height": 36
        }
      },
      "source": [
        "print(a)"
      ],
      "execution_count": 0,
      "outputs": [
        {
          "output_type": "stream",
          "text": [
            "{1: [1, 3], 2: [], 3: [4, 5], 4: [1], 5: []}\n"
          ],
          "name": "stdout"
        }
      ]
    },
    {
      "cell_type": "code",
      "metadata": {
        "id": "v_glH-gOX-6y",
        "colab_type": "code",
        "colab": {}
      },
      "source": [
        ""
      ],
      "execution_count": 0,
      "outputs": []
    }
  ]
}