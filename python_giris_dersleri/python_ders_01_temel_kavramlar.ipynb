{
  "nbformat": 4,
  "nbformat_minor": 0,
  "metadata": {
    "colab": {
      "name": "python-ders-1-temel-kavramlar.ipynb",
      "provenance": [],
      "collapsed_sections": []
    },
    "kernelspec": {
      "name": "python3",
      "display_name": "Python 3"
    }
  },
  "cells": [
    {
      "cell_type": "markdown",
      "metadata": {
        "id": "7k6s1-c9s8l9",
        "colab_type": "text"
      },
      "source": [
        "**Değişkenler**"
      ]
    },
    {
      "cell_type": "code",
      "metadata": {
        "id": "pIRGSAYcs-cS",
        "colab_type": "code",
        "colab": {}
      },
      "source": [
        "degisken_1 = 5"
      ],
      "execution_count": 0,
      "outputs": []
    },
    {
      "cell_type": "code",
      "metadata": {
        "id": "SVOpuYqJ1uv0",
        "colab_type": "code",
        "outputId": "4128c57a-77e9-4b48-8213-d127e5bd6f29",
        "colab": {
          "base_uri": "https://localhost:8080/",
          "height": 36
        }
      },
      "source": [
        "print(degisken_1)"
      ],
      "execution_count": 0,
      "outputs": [
        {
          "output_type": "stream",
          "text": [
            "5\n"
          ],
          "name": "stdout"
        }
      ]
    },
    {
      "cell_type": "code",
      "metadata": {
        "id": "PXSCtIIg13zs",
        "colab_type": "code",
        "outputId": "86d0c7c9-a0db-47af-db5c-f13c86ccd6e8",
        "colab": {
          "base_uri": "https://localhost:8080/",
          "height": 174
        }
      },
      "source": [
        "print(degisken_10)"
      ],
      "execution_count": 0,
      "outputs": [
        {
          "output_type": "error",
          "ename": "NameError",
          "evalue": "ignored",
          "traceback": [
            "\u001b[0;31m---------------------------------------------------------------------------\u001b[0m",
            "\u001b[0;31mNameError\u001b[0m                                 Traceback (most recent call last)",
            "\u001b[0;32m<ipython-input-8-9c6b810c5a1b>\u001b[0m in \u001b[0;36m<module>\u001b[0;34m()\u001b[0m\n\u001b[0;32m----> 1\u001b[0;31m \u001b[0mprint\u001b[0m\u001b[0;34m(\u001b[0m\u001b[0mdegisken_10\u001b[0m\u001b[0;34m)\u001b[0m\u001b[0;34m\u001b[0m\u001b[0;34m\u001b[0m\u001b[0m\n\u001b[0m",
            "\u001b[0;31mNameError\u001b[0m: name 'degisken_10' is not defined"
          ]
        }
      ]
    },
    {
      "cell_type": "markdown",
      "metadata": {
        "id": "RZ4cEm64tBAX",
        "colab_type": "text"
      },
      "source": [
        "**Operasyonlar**"
      ]
    },
    {
      "cell_type": "code",
      "metadata": {
        "id": "Cdo_BebE2DRl",
        "colab_type": "code",
        "colab": {}
      },
      "source": [
        "degisken_10 = 45"
      ],
      "execution_count": 0,
      "outputs": []
    },
    {
      "cell_type": "code",
      "metadata": {
        "id": "iJfTnkZKtL17",
        "colab_type": "code",
        "outputId": "a6e8e59d-526d-4105-a02f-e4160e35ff0d",
        "colab": {
          "base_uri": "https://localhost:8080/",
          "height": 36
        }
      },
      "source": [
        "degisken_2 = degisken_1\n",
        "\n",
        "print(degisken_2)"
      ],
      "execution_count": 0,
      "outputs": [
        {
          "output_type": "stream",
          "text": [
            "5\n"
          ],
          "name": "stdout"
        }
      ]
    },
    {
      "cell_type": "code",
      "metadata": {
        "id": "qedC-X742PSB",
        "colab_type": "code",
        "outputId": "cb6007eb-546a-4b1d-8347-4a2e3173470b",
        "colab": {
          "base_uri": "https://localhost:8080/",
          "height": 36
        }
      },
      "source": [
        "degisken_3 = degisken_10 + degisken_1\n",
        "\n",
        "print(degisken_3)"
      ],
      "execution_count": 0,
      "outputs": [
        {
          "output_type": "stream",
          "text": [
            "50\n"
          ],
          "name": "stdout"
        }
      ]
    },
    {
      "cell_type": "code",
      "metadata": {
        "id": "hKW6kb-92dTA",
        "colab_type": "code",
        "outputId": "a91e7f0a-324f-44ae-f5d5-b0f0c1f85920",
        "colab": {
          "base_uri": "https://localhost:8080/",
          "height": 36
        }
      },
      "source": [
        "degisken_3 = degisken_10 - degisken_1\n",
        "\n",
        "print(degisken_3)"
      ],
      "execution_count": 0,
      "outputs": [
        {
          "output_type": "stream",
          "text": [
            "40\n"
          ],
          "name": "stdout"
        }
      ]
    },
    {
      "cell_type": "code",
      "metadata": {
        "id": "RIByUZ7d2gjB",
        "colab_type": "code",
        "outputId": "08857509-ec8b-446d-a1b3-86f0f6ae4f87",
        "colab": {
          "base_uri": "https://localhost:8080/",
          "height": 36
        }
      },
      "source": [
        "degisken_3 = degisken_10 * degisken_1\n",
        "\n",
        "print(degisken_3)"
      ],
      "execution_count": 0,
      "outputs": [
        {
          "output_type": "stream",
          "text": [
            "225\n"
          ],
          "name": "stdout"
        }
      ]
    },
    {
      "cell_type": "code",
      "metadata": {
        "id": "QwuzvXg82k1T",
        "colab_type": "code",
        "outputId": "7d69d46a-f6a2-46c0-971d-235b203ff85d",
        "colab": {
          "base_uri": "https://localhost:8080/",
          "height": 36
        }
      },
      "source": [
        "degisken_3 = degisken_10 / degisken_1\n",
        "\n",
        "print(degisken_3)"
      ],
      "execution_count": 0,
      "outputs": [
        {
          "output_type": "stream",
          "text": [
            "9.0\n"
          ],
          "name": "stdout"
        }
      ]
    },
    {
      "cell_type": "code",
      "metadata": {
        "id": "taHWHbYl2tPP",
        "colab_type": "code",
        "outputId": "5fbd0bda-c3d7-420c-fed8-03c79ebba7f7",
        "colab": {
          "base_uri": "https://localhost:8080/",
          "height": 36
        }
      },
      "source": [
        "type(degisken_3)"
      ],
      "execution_count": 0,
      "outputs": [
        {
          "output_type": "execute_result",
          "data": {
            "text/plain": [
              "float"
            ]
          },
          "metadata": {
            "tags": []
          },
          "execution_count": 18
        }
      ]
    },
    {
      "cell_type": "code",
      "metadata": {
        "id": "Xj0sOzp83Mkj",
        "colab_type": "code",
        "outputId": "2a3cecb5-e937-4601-d60a-380a60afb80f",
        "colab": {
          "base_uri": "https://localhost:8080/",
          "height": 36
        }
      },
      "source": [
        "degisken_4 = 4.5\n",
        "\n",
        "type(degisken_4)"
      ],
      "execution_count": 0,
      "outputs": [
        {
          "output_type": "execute_result",
          "data": {
            "text/plain": [
              "float"
            ]
          },
          "metadata": {
            "tags": []
          },
          "execution_count": 20
        }
      ]
    },
    {
      "cell_type": "code",
      "metadata": {
        "id": "szDX3raB3WjY",
        "colab_type": "code",
        "outputId": "cb9ca67a-2e56-48e9-a7aa-712c9760475c",
        "colab": {
          "base_uri": "https://localhost:8080/",
          "height": 36
        }
      },
      "source": [
        "ilk_stringimiz = \"cagatay\"\n",
        "\n",
        "print(ilk_stringimiz)"
      ],
      "execution_count": 0,
      "outputs": [
        {
          "output_type": "stream",
          "text": [
            "cagatay\n"
          ],
          "name": "stdout"
        }
      ]
    },
    {
      "cell_type": "code",
      "metadata": {
        "id": "Te3pHVun3qAE",
        "colab_type": "code",
        "outputId": "07400fc2-97f7-4d0b-bb56-161d0875b7f2",
        "colab": {
          "base_uri": "https://localhost:8080/",
          "height": 36
        }
      },
      "source": [
        "15%10"
      ],
      "execution_count": 0,
      "outputs": [
        {
          "output_type": "execute_result",
          "data": {
            "text/plain": [
              "5"
            ]
          },
          "metadata": {
            "tags": []
          },
          "execution_count": 32
        }
      ]
    },
    {
      "cell_type": "code",
      "metadata": {
        "id": "G7JSFTXh4Auw",
        "colab_type": "code",
        "outputId": "a66b1338-fb0b-409d-e7b3-563772db2fb5",
        "colab": {
          "base_uri": "https://localhost:8080/",
          "height": 36
        }
      },
      "source": [
        "11//4"
      ],
      "execution_count": 0,
      "outputs": [
        {
          "output_type": "execute_result",
          "data": {
            "text/plain": [
              "2"
            ]
          },
          "metadata": {
            "tags": []
          },
          "execution_count": 36
        }
      ]
    },
    {
      "cell_type": "code",
      "metadata": {
        "id": "vhhv_4034WIi",
        "colab_type": "code",
        "outputId": "381ff278-9419-4ff2-8cd2-887e90b780b7",
        "colab": {
          "base_uri": "https://localhost:8080/",
          "height": 36
        }
      },
      "source": [
        "\"cagatay\"*3"
      ],
      "execution_count": 0,
      "outputs": [
        {
          "output_type": "execute_result",
          "data": {
            "text/plain": [
              "'cagataycagataycagatay'"
            ]
          },
          "metadata": {
            "tags": []
          },
          "execution_count": 37
        }
      ]
    },
    {
      "cell_type": "markdown",
      "metadata": {
        "id": "iZTLuflvtMn_",
        "colab_type": "text"
      },
      "source": [
        "**Girdi-Çıktı işlemleri**"
      ]
    },
    {
      "cell_type": "code",
      "metadata": {
        "id": "MV5UnD4guMHM",
        "colab_type": "code",
        "outputId": "8c205ed0-afca-42bf-a5d5-471b6a1385d5",
        "colab": {
          "base_uri": "https://localhost:8080/",
          "height": 36
        }
      },
      "source": [
        "ad = \"cagatay\"\n",
        "yas = 28\n",
        "\n",
        "print(\"Adi: {} Yas: {}\".format(ad, yas))"
      ],
      "execution_count": 0,
      "outputs": [
        {
          "output_type": "stream",
          "text": [
            "Adi: cagatay Yas: 28\n"
          ],
          "name": "stdout"
        }
      ]
    },
    {
      "cell_type": "code",
      "metadata": {
        "id": "LAUkJqqN4i_O",
        "colab_type": "code",
        "outputId": "5cac2616-3541-4804-dc1d-ab88565e623c",
        "colab": {
          "base_uri": "https://localhost:8080/",
          "height": 36
        }
      },
      "source": [
        "yas = input(\"Yasiniz: \")"
      ],
      "execution_count": 0,
      "outputs": [
        {
          "output_type": "stream",
          "text": [
            "Yasiniz: 28\n"
          ],
          "name": "stdout"
        }
      ]
    },
    {
      "cell_type": "code",
      "metadata": {
        "id": "_e_IUXlt5J9g",
        "colab_type": "code",
        "outputId": "b6bdca25-20d1-4121-cecd-19c2d033b771",
        "colab": {
          "base_uri": "https://localhost:8080/",
          "height": 36
        }
      },
      "source": [
        "print(yas)"
      ],
      "execution_count": 0,
      "outputs": [
        {
          "output_type": "stream",
          "text": [
            "28\n"
          ],
          "name": "stdout"
        }
      ]
    },
    {
      "cell_type": "code",
      "metadata": {
        "id": "3vijA86j5Mzl",
        "colab_type": "code",
        "outputId": "efb8fe2f-dbb1-40be-b498-5ac1ceb30541",
        "colab": {
          "base_uri": "https://localhost:8080/",
          "height": 36
        }
      },
      "source": [
        "ad = input(\"Ad: \")"
      ],
      "execution_count": 0,
      "outputs": [
        {
          "output_type": "stream",
          "text": [
            "Ad: cagatay\n"
          ],
          "name": "stdout"
        }
      ]
    },
    {
      "cell_type": "code",
      "metadata": {
        "id": "juNw6m8y5Shb",
        "colab_type": "code",
        "outputId": "16593a71-db7e-424b-8c94-52486ab243b4",
        "colab": {
          "base_uri": "https://localhost:8080/",
          "height": 36
        }
      },
      "source": [
        "print(ad)"
      ],
      "execution_count": 0,
      "outputs": [
        {
          "output_type": "stream",
          "text": [
            "cagatay\n"
          ],
          "name": "stdout"
        }
      ]
    },
    {
      "cell_type": "code",
      "metadata": {
        "id": "bJIbHHij5Umx",
        "colab_type": "code",
        "colab": {}
      },
      "source": [
        ""
      ],
      "execution_count": 0,
      "outputs": []
    }
  ]
}