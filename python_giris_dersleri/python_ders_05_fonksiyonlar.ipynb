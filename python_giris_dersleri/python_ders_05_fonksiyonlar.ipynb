{
  "nbformat": 4,
  "nbformat_minor": 0,
  "metadata": {
    "colab": {
      "name": "python_ders_5_fonksiyonlar.ipynb",
      "provenance": [],
      "collapsed_sections": []
    },
    "kernelspec": {
      "name": "python3",
      "display_name": "Python 3"
    }
  },
  "cells": [
    {
      "cell_type": "markdown",
      "metadata": {
        "id": "IYu7K81UmHJz",
        "colab_type": "text"
      },
      "source": [
        "y = f(x)"
      ]
    },
    {
      "cell_type": "markdown",
      "metadata": {
        "id": "SRKCJVp_mOT2",
        "colab_type": "text"
      },
      "source": [
        "# def sözcüğü ve ilk fonksiyon"
      ]
    },
    {
      "cell_type": "code",
      "metadata": {
        "id": "QM6v6HiVmTxB",
        "colab_type": "code",
        "outputId": "e457c7b4-0042-4259-bd3b-0c8cb38f571f",
        "colab": {
          "base_uri": "https://localhost:8080/",
          "height": 54
        }
      },
      "source": [
        "def fonk():\n",
        "  print(\"hello\")\n",
        "  print(\"world\")\n",
        "  \n",
        "fonk()"
      ],
      "execution_count": 0,
      "outputs": [
        {
          "output_type": "stream",
          "text": [
            "hello\n",
            "world\n"
          ],
          "name": "stdout"
        }
      ]
    },
    {
      "cell_type": "markdown",
      "metadata": {
        "id": "j9_siyNpmZbP",
        "colab_type": "text"
      },
      "source": [
        "# local ve global değişkenler"
      ]
    },
    {
      "cell_type": "code",
      "metadata": {
        "id": "Gs6kbagBmehR",
        "colab_type": "code",
        "outputId": "1075811f-d343-4fc5-d8d4-8f26ebcfe69e",
        "colab": {
          "base_uri": "https://localhost:8080/",
          "height": 211
        }
      },
      "source": [
        "def fonk(x):\n",
        "  y = 3 \n",
        "  return x + y\n",
        "\n",
        "\n",
        "\n",
        "fonk(3)\n",
        "print(y)"
      ],
      "execution_count": 0,
      "outputs": [
        {
          "output_type": "error",
          "ename": "NameError",
          "evalue": "ignored",
          "traceback": [
            "\u001b[0;31m---------------------------------------------------------------------------\u001b[0m",
            "\u001b[0;31mNameError\u001b[0m                                 Traceback (most recent call last)",
            "\u001b[0;32m<ipython-input-21-79362ff91cfb>\u001b[0m in \u001b[0;36m<module>\u001b[0;34m()\u001b[0m\n\u001b[1;32m      6\u001b[0m \u001b[0;34m\u001b[0m\u001b[0m\n\u001b[1;32m      7\u001b[0m \u001b[0mfonk\u001b[0m\u001b[0;34m(\u001b[0m\u001b[0;36m3\u001b[0m\u001b[0;34m)\u001b[0m\u001b[0;34m\u001b[0m\u001b[0;34m\u001b[0m\u001b[0m\n\u001b[0;32m----> 8\u001b[0;31m \u001b[0mprint\u001b[0m\u001b[0;34m(\u001b[0m\u001b[0my\u001b[0m\u001b[0;34m)\u001b[0m\u001b[0;34m\u001b[0m\u001b[0;34m\u001b[0m\u001b[0m\n\u001b[0m",
            "\u001b[0;31mNameError\u001b[0m: name 'y' is not defined"
          ]
        }
      ]
    },
    {
      "cell_type": "code",
      "metadata": {
        "id": "ENNAqvm781Ql",
        "colab_type": "code",
        "outputId": "fcef17cc-7c3c-4e38-9c6d-5bc3c6144195",
        "colab": {
          "base_uri": "https://localhost:8080/",
          "height": 54
        }
      },
      "source": [
        "y = 35\n",
        "\n",
        "def global_fonk(x):\n",
        "  \n",
        "  global y \n",
        "  \n",
        "  y = 10\n",
        "  \n",
        "  return x + y\n",
        "\n",
        "print(global_fonk(3))\n",
        "print(y)"
      ],
      "execution_count": 0,
      "outputs": [
        {
          "output_type": "stream",
          "text": [
            "13\n",
            "10\n"
          ],
          "name": "stdout"
        }
      ]
    },
    {
      "cell_type": "code",
      "metadata": {
        "id": "uzZ1DPCEm63I",
        "colab_type": "code",
        "colab": {}
      },
      "source": [
        ""
      ],
      "execution_count": 0,
      "outputs": []
    },
    {
      "cell_type": "markdown",
      "metadata": {
        "id": "c4qZ7D4AnDYK",
        "colab_type": "text"
      },
      "source": [
        "#argümanlar"
      ]
    },
    {
      "cell_type": "code",
      "metadata": {
        "id": "eT-E8JDVnF_d",
        "colab_type": "code",
        "outputId": "06cfd41b-d2e7-4c28-c769-b54875be106d",
        "colab": {
          "base_uri": "https://localhost:8080/",
          "height": 36
        }
      },
      "source": [
        "def fonk_arg(x, y):\n",
        "  return x**3 + y\n",
        "\n",
        "\n",
        "print(fonk_arg(2, 4))"
      ],
      "execution_count": 0,
      "outputs": [
        {
          "output_type": "stream",
          "text": [
            "12\n"
          ],
          "name": "stdout"
        }
      ]
    },
    {
      "cell_type": "code",
      "metadata": {
        "id": "GHUh7ASd7hCd",
        "colab_type": "code",
        "outputId": "143770fc-79dd-4c98-f858-a038e71f34bc",
        "colab": {
          "base_uri": "https://localhost:8080/",
          "height": 54
        }
      },
      "source": [
        "def fonk_arg_2(x, y=4):\n",
        "  return x**3 + y\n",
        "\n",
        "print(fonk_arg_2(2))\n",
        "\n",
        "a = fonk_arg_2(3, 26)\n",
        "\n",
        "print(a)"
      ],
      "execution_count": 0,
      "outputs": [
        {
          "output_type": "stream",
          "text": [
            "12\n",
            "53\n"
          ],
          "name": "stdout"
        }
      ]
    },
    {
      "cell_type": "markdown",
      "metadata": {
        "id": "HK0PIfjem7fW",
        "colab_type": "text"
      },
      "source": [
        "# lambda fonksiyonlar"
      ]
    },
    {
      "cell_type": "code",
      "metadata": {
        "id": "MQAJOUqmm_N6",
        "colab_type": "code",
        "colab": {}
      },
      "source": [
        "fonk_lambda = lambda x, y: x+y"
      ],
      "execution_count": 0,
      "outputs": []
    },
    {
      "cell_type": "code",
      "metadata": {
        "id": "lxja-8LY9uZS",
        "colab_type": "code",
        "outputId": "c8902b05-eb6f-429a-a47e-bc8934898cc3",
        "colab": {
          "base_uri": "https://localhost:8080/",
          "height": 35
        }
      },
      "source": [
        "fonk_lambda(3, 4)"
      ],
      "execution_count": 33,
      "outputs": [
        {
          "output_type": "execute_result",
          "data": {
            "text/plain": [
              "7"
            ]
          },
          "metadata": {
            "tags": []
          },
          "execution_count": 33
        }
      ]
    },
    {
      "cell_type": "code",
      "metadata": {
        "id": "DZ5lsFCn9wn_",
        "colab_type": "code",
        "colab": {}
      },
      "source": [
        ""
      ],
      "execution_count": 0,
      "outputs": []
    }
  ]
}