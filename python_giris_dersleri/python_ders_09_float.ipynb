{
  "nbformat": 4,
  "nbformat_minor": 0,
  "metadata": {
    "colab": {
      "name": "python_9_math_modul_matematik.ipynb",
      "provenance": [],
      "collapsed_sections": []
    },
    "kernelspec": {
      "name": "python3",
      "display_name": "Python 3"
    }
  },
  "cells": [
    {
      "cell_type": "markdown",
      "metadata": {
        "id": "wS5Bfd3cfLcc",
        "colab_type": "text"
      },
      "source": [
        "Reference: \n",
        "\n",
        "- https://docs.python.org/2/tutorial/floatingpoint.html\n",
        "- https://docs.python.org/2/library/decimal.html"
      ]
    },
    {
      "cell_type": "code",
      "metadata": {
        "id": "YH4oJyK9Q5gR",
        "colab_type": "code",
        "cellView": "both",
        "outputId": "a9be4a9e-d4e1-4433-ca5a-a88c35b149dd",
        "colab": {
          "base_uri": "https://localhost:8080/",
          "height": 36
        }
      },
      "source": [
        "#@title\n",
        "print((0.5 + 0.5) == 1.0)"
      ],
      "execution_count": 0,
      "outputs": [
        {
          "output_type": "stream",
          "text": [
            "True\n"
          ],
          "name": "stdout"
        }
      ]
    },
    {
      "cell_type": "code",
      "metadata": {
        "id": "faSDQwZ5RBX6",
        "colab_type": "code",
        "cellView": "both",
        "outputId": "91b48c74-dc6b-4baf-fb65-6ac765881770",
        "colab": {
          "base_uri": "https://localhost:8080/",
          "height": 36
        }
      },
      "source": [
        "#@title\n",
        "print((0.1 + 0.1 + 0.1) == 0.3)"
      ],
      "execution_count": 0,
      "outputs": [
        {
          "output_type": "stream",
          "text": [
            "False\n"
          ],
          "name": "stdout"
        }
      ]
    },
    {
      "cell_type": "code",
      "metadata": {
        "id": "SHxOJchWRGTj",
        "colab_type": "code",
        "cellView": "both",
        "colab": {}
      },
      "source": [
        "#@title\n",
        "from decimal import * "
      ],
      "execution_count": 0,
      "outputs": []
    },
    {
      "cell_type": "code",
      "metadata": {
        "id": "DA2Iz8l6RhpZ",
        "colab_type": "code",
        "cellView": "both",
        "outputId": "35f28674-2e17-470c-9f15-91d4812b682d",
        "colab": {
          "base_uri": "https://localhost:8080/",
          "height": 36
        }
      },
      "source": [
        "#@title\n",
        "print(Decimal(0.1))"
      ],
      "execution_count": 0,
      "outputs": [
        {
          "output_type": "stream",
          "text": [
            "0.1000000000000000055511151231257827021181583404541015625\n"
          ],
          "name": "stdout"
        }
      ]
    },
    {
      "cell_type": "code",
      "metadata": {
        "id": "nQl40AzbRqAP",
        "colab_type": "code",
        "cellView": "both",
        "outputId": "6d3dba2b-313c-44d8-ea02-96682c764b9d",
        "colab": {
          "base_uri": "https://localhost:8080/",
          "height": 54
        }
      },
      "source": [
        "#@title\n",
        "print(Decimal(0.3))\n",
        "print(Decimal(0.1 + 0.1 + 0.1))"
      ],
      "execution_count": 0,
      "outputs": [
        {
          "output_type": "stream",
          "text": [
            "0.299999999999999988897769753748434595763683319091796875\n",
            "0.3000000000000000444089209850062616169452667236328125\n"
          ],
          "name": "stdout"
        }
      ]
    },
    {
      "cell_type": "code",
      "metadata": {
        "id": "E1Jy-8-1lQwZ",
        "colab_type": "code",
        "cellView": "both",
        "outputId": "51fee152-5aa4-4d6f-f37c-5e0a4171650d",
        "colab": {
          "base_uri": "https://localhost:8080/",
          "height": 73
        }
      },
      "source": [
        "#@title\n",
        "print(0.6.as_integer_ratio())\n",
        "\n",
        "print(Decimal(0.1.as_integer_ratio()[0]/0.1.as_integer_ratio()[1]))\n",
        "print(Decimal(0.1))\n"
      ],
      "execution_count": 0,
      "outputs": [
        {
          "output_type": "stream",
          "text": [
            "(5404319552844595, 9007199254740992)\n",
            "0.1000000000000000055511151231257827021181583404541015625\n",
            "0.1000000000000000055511151231257827021181583404541015625\n"
          ],
          "name": "stdout"
        }
      ]
    },
    {
      "cell_type": "code",
      "metadata": {
        "id": "qFKGukujmQfH",
        "colab_type": "code",
        "outputId": "48db894a-cd86-4a59-c53f-10c375f1ed5c",
        "colab": {
          "base_uri": "https://localhost:8080/",
          "height": 54
        }
      },
      "source": [
        "print(Decimal(5404319552844595/9007199254740992))\n",
        "print(Decimal(0.6))"
      ],
      "execution_count": 0,
      "outputs": [
        {
          "output_type": "stream",
          "text": [
            "0.59999999999999997779553950749686919152736663818359375\n",
            "0.59999999999999997779553950749686919152736663818359375\n"
          ],
          "name": "stdout"
        }
      ]
    },
    {
      "cell_type": "code",
      "metadata": {
        "id": "5gmiAKTYlidO",
        "colab_type": "code",
        "outputId": "a6c047a9-84d5-40be-c93a-bd4a8bd24fb3",
        "colab": {
          "base_uri": "https://localhost:8080/",
          "height": 54
        }
      },
      "source": [
        "print(0.6.hex())\n",
        "print(Decimal(float.fromhex('0x1.3333333333333p-1')))"
      ],
      "execution_count": 0,
      "outputs": [
        {
          "output_type": "stream",
          "text": [
            "0x1.3333333333333p-1\n",
            "0.59999999999999997779553950749686919152736663818359375\n"
          ],
          "name": "stdout"
        }
      ]
    },
    {
      "cell_type": "code",
      "metadata": {
        "id": "n_JDlpx0U2nT",
        "colab_type": "code",
        "cellView": "both",
        "outputId": "a1775637-50b5-4d75-f000-a0cceffa9d39",
        "colab": {
          "base_uri": "https://localhost:8080/",
          "height": 36
        }
      },
      "source": [
        "#@title\n",
        "Decimal('0.1')+Decimal('0.1')+Decimal('0.1') == Decimal('0.3')"
      ],
      "execution_count": 0,
      "outputs": [
        {
          "output_type": "execute_result",
          "data": {
            "text/plain": [
              "True"
            ]
          },
          "metadata": {
            "tags": []
          },
          "execution_count": 107
        }
      ]
    },
    {
      "cell_type": "code",
      "metadata": {
        "id": "ymTphLMRSJRi",
        "colab_type": "code",
        "cellView": "both",
        "outputId": "f3e2f5f8-92e4-4268-a805-36473867f479",
        "colab": {
          "base_uri": "https://localhost:8080/",
          "height": 36
        }
      },
      "source": [
        "#@title\n",
        "delta = 0.0000001\n",
        "\n",
        "value = 0.00000001\n",
        "\n",
        "if (value - 0.0) < delta:\n",
        "  print(\"Değer 0'a çok yakın!\")"
      ],
      "execution_count": 0,
      "outputs": [
        {
          "output_type": "stream",
          "text": [
            "Değer 0'a çok yakın!\n"
          ],
          "name": "stdout"
        }
      ]
    },
    {
      "cell_type": "code",
      "metadata": {
        "id": "8LRAMWTod5Z3",
        "colab_type": "code",
        "cellView": "both",
        "colab": {}
      },
      "source": [
        ""
      ],
      "execution_count": 0,
      "outputs": []
    }
  ]
}