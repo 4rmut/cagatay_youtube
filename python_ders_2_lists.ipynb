{
  "nbformat": 4,
  "nbformat_minor": 0,
  "metadata": {
    "colab": {
      "name": "python_ders_2_lists.ipynb",
      "provenance": [],
      "collapsed_sections": []
    },
    "kernelspec": {
      "name": "python3",
      "display_name": "Python 3"
    }
  },
  "cells": [
    {
      "cell_type": "markdown",
      "metadata": {
        "id": "IkJyCl2r8_rz",
        "colab_type": "text"
      },
      "source": [
        "**Listeler**"
      ]
    },
    {
      "cell_type": "code",
      "metadata": {
        "id": "7NXBLolC89IC",
        "colab_type": "code",
        "colab": {}
      },
      "source": [
        "liste = []"
      ],
      "execution_count": 0,
      "outputs": []
    },
    {
      "cell_type": "code",
      "metadata": {
        "id": "POxrmjhsOGoc",
        "colab_type": "code",
        "outputId": "039ed6bf-e5a0-4ca9-af7d-08fa6d567e6d",
        "colab": {
          "base_uri": "https://localhost:8080/",
          "height": 36
        }
      },
      "source": [
        "type(liste)"
      ],
      "execution_count": 0,
      "outputs": [
        {
          "output_type": "execute_result",
          "data": {
            "text/plain": [
              "list"
            ]
          },
          "metadata": {
            "tags": []
          },
          "execution_count": 2
        }
      ]
    },
    {
      "cell_type": "code",
      "metadata": {
        "id": "balKV3dFOr7h",
        "colab_type": "code",
        "colab": {}
      },
      "source": [
        "a = [1, 2, 3, 5, 123]"
      ],
      "execution_count": 0,
      "outputs": []
    },
    {
      "cell_type": "code",
      "metadata": {
        "id": "bNaFMILXOxh-",
        "colab_type": "code",
        "outputId": "9149d030-7cf4-4176-c8f0-f9f534d53463",
        "colab": {
          "base_uri": "https://localhost:8080/",
          "height": 36
        }
      },
      "source": [
        "print(a)"
      ],
      "execution_count": 0,
      "outputs": [
        {
          "output_type": "stream",
          "text": [
            "[1, 2, 3, 5, 123]\n"
          ],
          "name": "stdout"
        }
      ]
    },
    {
      "cell_type": "code",
      "metadata": {
        "id": "NrVJDXaCO_f1",
        "colab_type": "code",
        "outputId": "896b0972-4f53-4cbf-feef-1051f84c32c0",
        "colab": {
          "base_uri": "https://localhost:8080/",
          "height": 36
        }
      },
      "source": [
        "print(a[0])"
      ],
      "execution_count": 0,
      "outputs": [
        {
          "output_type": "stream",
          "text": [
            "1\n"
          ],
          "name": "stdout"
        }
      ]
    },
    {
      "cell_type": "code",
      "metadata": {
        "id": "6YG103wNPLPz",
        "colab_type": "code",
        "outputId": "3fb31221-d3fd-43fb-b23d-78cdec79262c",
        "colab": {
          "base_uri": "https://localhost:8080/",
          "height": 36
        }
      },
      "source": [
        "print(a[-1])"
      ],
      "execution_count": 0,
      "outputs": [
        {
          "output_type": "stream",
          "text": [
            "123\n"
          ],
          "name": "stdout"
        }
      ]
    },
    {
      "cell_type": "code",
      "metadata": {
        "id": "W1s56OUvPQzF",
        "colab_type": "code",
        "outputId": "a6f24e30-bb56-497d-8f1c-e0ad63fc72dc",
        "colab": {
          "base_uri": "https://localhost:8080/",
          "height": 36
        }
      },
      "source": [
        "print(a[0:2])"
      ],
      "execution_count": 0,
      "outputs": [
        {
          "output_type": "stream",
          "text": [
            "[1, 2]\n"
          ],
          "name": "stdout"
        }
      ]
    },
    {
      "cell_type": "markdown",
      "metadata": {
        "id": "iVbEYfGi9DTX",
        "colab_type": "text"
      },
      "source": [
        "\n",
        "\n",
        "**len**\n",
        "\n"
      ]
    },
    {
      "cell_type": "code",
      "metadata": {
        "id": "OMLwzDry9LAu",
        "colab_type": "code",
        "outputId": "469d219b-cf00-4ef3-b0a0-e3fd4d1ef3e5",
        "colab": {
          "base_uri": "https://localhost:8080/",
          "height": 36
        }
      },
      "source": [
        "print(len(a))"
      ],
      "execution_count": 0,
      "outputs": [
        {
          "output_type": "stream",
          "text": [
            "5\n"
          ],
          "name": "stdout"
        }
      ]
    },
    {
      "cell_type": "markdown",
      "metadata": {
        "id": "Jy078e2Z9OGb",
        "colab_type": "text"
      },
      "source": [
        "**append ve insert**"
      ]
    },
    {
      "cell_type": "code",
      "metadata": {
        "id": "uCDWf-bo96T7",
        "colab_type": "code",
        "colab": {}
      },
      "source": [
        "a.append(60)\n"
      ],
      "execution_count": 0,
      "outputs": []
    },
    {
      "cell_type": "code",
      "metadata": {
        "id": "1jrXQN-nQEt-",
        "colab_type": "code",
        "outputId": "a3d99628-dbad-4c55-96cd-c9aa8d9c1b20",
        "colab": {
          "base_uri": "https://localhost:8080/",
          "height": 36
        }
      },
      "source": [
        "print(a)"
      ],
      "execution_count": 0,
      "outputs": [
        {
          "output_type": "stream",
          "text": [
            "[1, 2, 3, 5, 123, 60]\n"
          ],
          "name": "stdout"
        }
      ]
    },
    {
      "cell_type": "code",
      "metadata": {
        "id": "Ele6-RU9QQkX",
        "colab_type": "code",
        "colab": {}
      },
      "source": [
        "a.insert(1, 1000)"
      ],
      "execution_count": 0,
      "outputs": []
    },
    {
      "cell_type": "code",
      "metadata": {
        "id": "AEU_ecbKQUDv",
        "colab_type": "code",
        "outputId": "aa3eb6ab-3ee5-4f07-c062-53b071660713",
        "colab": {
          "base_uri": "https://localhost:8080/",
          "height": 36
        }
      },
      "source": [
        "print(a)"
      ],
      "execution_count": 0,
      "outputs": [
        {
          "output_type": "stream",
          "text": [
            "[1, 1000, 2, 3, 5, 2000, 60]\n"
          ],
          "name": "stdout"
        }
      ]
    },
    {
      "cell_type": "code",
      "metadata": {
        "id": "2FClFdNbQcnQ",
        "colab_type": "code",
        "colab": {}
      },
      "source": [
        "a[5] = 2000"
      ],
      "execution_count": 0,
      "outputs": []
    },
    {
      "cell_type": "markdown",
      "metadata": {
        "id": "n_OQIa1z97EH",
        "colab_type": "text"
      },
      "source": [
        "**max ve min**"
      ]
    },
    {
      "cell_type": "code",
      "metadata": {
        "id": "i-uHx2ND-Grv",
        "colab_type": "code",
        "outputId": "9d4b7ce2-f655-4251-93bd-d7815d07baed",
        "colab": {
          "base_uri": "https://localhost:8080/",
          "height": 54
        }
      },
      "source": [
        "print(max(a))\n",
        "print(min(a))"
      ],
      "execution_count": 0,
      "outputs": [
        {
          "output_type": "stream",
          "text": [
            "2000\n",
            "1\n"
          ],
          "name": "stdout"
        }
      ]
    },
    {
      "cell_type": "markdown",
      "metadata": {
        "id": "kIaMrv3H-iHw",
        "colab_type": "text"
      },
      "source": [
        "**remove, pop, clear ve del**"
      ]
    },
    {
      "cell_type": "code",
      "metadata": {
        "id": "2PC7xqsf-jtC",
        "colab_type": "code",
        "outputId": "ce99cc5e-7b82-415b-ab22-8fcc5d314e34",
        "colab": {
          "base_uri": "https://localhost:8080/",
          "height": 36
        }
      },
      "source": [
        "print(a)"
      ],
      "execution_count": 0,
      "outputs": [
        {
          "output_type": "stream",
          "text": [
            "[1, 1000, 2, 3, 5, 2000, 60]\n"
          ],
          "name": "stdout"
        }
      ]
    },
    {
      "cell_type": "code",
      "metadata": {
        "id": "RUel2g_tQ_T8",
        "colab_type": "code",
        "colab": {}
      },
      "source": [
        "del a[0]"
      ],
      "execution_count": 0,
      "outputs": []
    },
    {
      "cell_type": "code",
      "metadata": {
        "id": "L7QMBT_0RIdg",
        "colab_type": "code",
        "outputId": "51173e4b-69a9-4aba-afd7-76485dcc2f01",
        "colab": {
          "base_uri": "https://localhost:8080/",
          "height": 36
        }
      },
      "source": [
        "print(a)"
      ],
      "execution_count": 0,
      "outputs": [
        {
          "output_type": "stream",
          "text": [
            "[1000, 2, 3, 5, 2000, 60]\n"
          ],
          "name": "stdout"
        }
      ]
    },
    {
      "cell_type": "code",
      "metadata": {
        "id": "V3o61VePRP11",
        "colab_type": "code",
        "outputId": "22115316-b4f5-4191-8b07-2c65cd3de0a2",
        "colab": {
          "base_uri": "https://localhost:8080/",
          "height": 36
        }
      },
      "source": [
        "a.pop()"
      ],
      "execution_count": 0,
      "outputs": [
        {
          "output_type": "execute_result",
          "data": {
            "text/plain": [
              "60"
            ]
          },
          "metadata": {
            "tags": []
          },
          "execution_count": 21
        }
      ]
    },
    {
      "cell_type": "code",
      "metadata": {
        "id": "JWQQWyYYRTba",
        "colab_type": "code",
        "outputId": "3c9e3625-064f-4edb-d02a-54cff90c8e39",
        "colab": {
          "base_uri": "https://localhost:8080/",
          "height": 36
        }
      },
      "source": [
        "print(a)"
      ],
      "execution_count": 0,
      "outputs": [
        {
          "output_type": "stream",
          "text": [
            "[1000, 2, 3, 5, 2000]\n"
          ],
          "name": "stdout"
        }
      ]
    },
    {
      "cell_type": "code",
      "metadata": {
        "id": "PWWmhI0JRhO5",
        "colab_type": "code",
        "colab": {}
      },
      "source": [
        "del a[-1]"
      ],
      "execution_count": 0,
      "outputs": []
    },
    {
      "cell_type": "code",
      "metadata": {
        "id": "IhTNuyi6RkCI",
        "colab_type": "code",
        "outputId": "cccc6ac5-f6fc-4724-8f58-6d17948cf87c",
        "colab": {
          "base_uri": "https://localhost:8080/",
          "height": 36
        }
      },
      "source": [
        "print(a)"
      ],
      "execution_count": 0,
      "outputs": [
        {
          "output_type": "stream",
          "text": [
            "[1000, 2, 3, 5]\n"
          ],
          "name": "stdout"
        }
      ]
    },
    {
      "cell_type": "code",
      "metadata": {
        "id": "IH72bCnGRrs-",
        "colab_type": "code",
        "colab": {}
      },
      "source": [
        "a.remove(1000)"
      ],
      "execution_count": 0,
      "outputs": []
    },
    {
      "cell_type": "code",
      "metadata": {
        "id": "MPpog5wGRulq",
        "colab_type": "code",
        "outputId": "3a1e383a-1070-4194-ceaf-e0ebaee611db",
        "colab": {
          "base_uri": "https://localhost:8080/",
          "height": 36
        }
      },
      "source": [
        "print(a)"
      ],
      "execution_count": 0,
      "outputs": [
        {
          "output_type": "stream",
          "text": [
            "[2, 3, 5]\n"
          ],
          "name": "stdout"
        }
      ]
    },
    {
      "cell_type": "code",
      "metadata": {
        "id": "1MIypMGaRyTf",
        "colab_type": "code",
        "colab": {}
      },
      "source": [
        "a.append(3000)"
      ],
      "execution_count": 0,
      "outputs": []
    },
    {
      "cell_type": "code",
      "metadata": {
        "id": "HeL5M-JzR4eM",
        "colab_type": "code",
        "outputId": "203b3fb7-9861-449e-ab5c-6bd4f006f1b1",
        "colab": {
          "base_uri": "https://localhost:8080/",
          "height": 36
        }
      },
      "source": [
        "print(a)"
      ],
      "execution_count": 0,
      "outputs": [
        {
          "output_type": "stream",
          "text": [
            "[2, 3, 5, 3000, 3000]\n"
          ],
          "name": "stdout"
        }
      ]
    },
    {
      "cell_type": "code",
      "metadata": {
        "id": "9PfMjyDjR6sk",
        "colab_type": "code",
        "outputId": "c885d910-60eb-433e-9028-3871b96c9759",
        "colab": {
          "base_uri": "https://localhost:8080/",
          "height": 211
        }
      },
      "source": [
        "a.remove(3000)\n",
        "\n",
        "print(a)"
      ],
      "execution_count": 0,
      "outputs": [
        {
          "output_type": "error",
          "ename": "ValueError",
          "evalue": "ignored",
          "traceback": [
            "\u001b[0;31m---------------------------------------------------------------------------\u001b[0m",
            "\u001b[0;31mValueError\u001b[0m                                Traceback (most recent call last)",
            "\u001b[0;32m<ipython-input-32-24ef29c77e0e>\u001b[0m in \u001b[0;36m<module>\u001b[0;34m()\u001b[0m\n\u001b[0;32m----> 1\u001b[0;31m \u001b[0ma\u001b[0m\u001b[0;34m.\u001b[0m\u001b[0mremove\u001b[0m\u001b[0;34m(\u001b[0m\u001b[0;36m3000\u001b[0m\u001b[0;34m)\u001b[0m\u001b[0;34m\u001b[0m\u001b[0;34m\u001b[0m\u001b[0m\n\u001b[0m\u001b[1;32m      2\u001b[0m \u001b[0;34m\u001b[0m\u001b[0m\n\u001b[1;32m      3\u001b[0m \u001b[0mprint\u001b[0m\u001b[0;34m(\u001b[0m\u001b[0ma\u001b[0m\u001b[0;34m)\u001b[0m\u001b[0;34m\u001b[0m\u001b[0;34m\u001b[0m\u001b[0m\n",
            "\u001b[0;31mValueError\u001b[0m: list.remove(x): x not in list"
          ]
        }
      ]
    },
    {
      "cell_type": "code",
      "metadata": {
        "id": "MCwFzEB7SD2j",
        "colab_type": "code",
        "colab": {}
      },
      "source": [
        "a.clear()"
      ],
      "execution_count": 0,
      "outputs": []
    },
    {
      "cell_type": "code",
      "metadata": {
        "id": "qleBksyuSI2G",
        "colab_type": "code",
        "outputId": "9da712b9-2873-4ba2-c834-829e50c846ef",
        "colab": {
          "base_uri": "https://localhost:8080/",
          "height": 36
        }
      },
      "source": [
        "print(a)"
      ],
      "execution_count": 0,
      "outputs": [
        {
          "output_type": "stream",
          "text": [
            "[]\n"
          ],
          "name": "stdout"
        }
      ]
    },
    {
      "cell_type": "markdown",
      "metadata": {
        "id": "seHit92Q-01b",
        "colab_type": "text"
      },
      "source": [
        "**count ve index**"
      ]
    },
    {
      "cell_type": "code",
      "metadata": {
        "id": "Ez468fz6-2Tk",
        "colab_type": "code",
        "colab": {}
      },
      "source": [
        "a = [1, 2, 3, 4, 5, 6, 7, 1, 5, 10]"
      ],
      "execution_count": 0,
      "outputs": []
    },
    {
      "cell_type": "code",
      "metadata": {
        "id": "Vaszt3aOSPMk",
        "colab_type": "code",
        "colab": {}
      },
      "source": [
        "c = a.count(10)"
      ],
      "execution_count": 0,
      "outputs": []
    },
    {
      "cell_type": "code",
      "metadata": {
        "id": "9Wb81EY7SiN3",
        "colab_type": "code",
        "outputId": "3223644a-92e6-47d9-c699-b64915e24c1c",
        "colab": {
          "base_uri": "https://localhost:8080/",
          "height": 36
        }
      },
      "source": [
        "print(c)"
      ],
      "execution_count": 0,
      "outputs": [
        {
          "output_type": "stream",
          "text": [
            "1\n"
          ],
          "name": "stdout"
        }
      ]
    },
    {
      "cell_type": "code",
      "metadata": {
        "id": "k89BLCMTSojv",
        "colab_type": "code",
        "outputId": "0921d464-74d3-4d89-bd76-b7417155ae06",
        "colab": {
          "base_uri": "https://localhost:8080/",
          "height": 36
        }
      },
      "source": [
        "p = a.index(1)\n",
        "\n",
        "print(p)"
      ],
      "execution_count": 0,
      "outputs": [
        {
          "output_type": "stream",
          "text": [
            "0\n"
          ],
          "name": "stdout"
        }
      ]
    },
    {
      "cell_type": "markdown",
      "metadata": {
        "id": "bSAxSIS--3lT",
        "colab_type": "text"
      },
      "source": [
        "**Python Listelerini Kopyalama**"
      ]
    },
    {
      "cell_type": "code",
      "metadata": {
        "id": "CWydUtp8-6Yj",
        "colab_type": "code",
        "colab": {}
      },
      "source": [
        "b = a "
      ],
      "execution_count": 0,
      "outputs": []
    },
    {
      "cell_type": "code",
      "metadata": {
        "id": "y9AgBYkeTMic",
        "colab_type": "code",
        "outputId": "7d921ccb-55a8-4d3a-8c67-41061d8dd50a",
        "colab": {
          "base_uri": "https://localhost:8080/",
          "height": 36
        }
      },
      "source": [
        "print(a, b)"
      ],
      "execution_count": 0,
      "outputs": [
        {
          "output_type": "stream",
          "text": [
            "[1, 2, 3, 4, 5, 6, 7, 1, 5, 10] [1, 2, 3, 4, 5, 6, 7, 1, 5, 10]\n"
          ],
          "name": "stdout"
        }
      ]
    },
    {
      "cell_type": "code",
      "metadata": {
        "id": "m-0pSafWTQUp",
        "colab_type": "code",
        "colab": {}
      },
      "source": [
        "b[2] = 599999"
      ],
      "execution_count": 0,
      "outputs": []
    },
    {
      "cell_type": "code",
      "metadata": {
        "id": "aqcJka6lTVZj",
        "colab_type": "code",
        "outputId": "c3e28c06-c4fa-46d6-b8ea-fa98f3b1237a",
        "colab": {
          "base_uri": "https://localhost:8080/",
          "height": 36
        }
      },
      "source": [
        "print(a)"
      ],
      "execution_count": 0,
      "outputs": [
        {
          "output_type": "stream",
          "text": [
            "[1, 2, 599999, 4, 5, 6, 7, 1, 5, 10]\n"
          ],
          "name": "stdout"
        }
      ]
    },
    {
      "cell_type": "code",
      "metadata": {
        "id": "iwWeE6hDTeEU",
        "colab_type": "code",
        "colab": {}
      },
      "source": [
        "b = a.copy()"
      ],
      "execution_count": 0,
      "outputs": []
    },
    {
      "cell_type": "code",
      "metadata": {
        "id": "KdUWiwIATgk9",
        "colab_type": "code",
        "colab": {}
      },
      "source": [
        "b[0] = 10000000"
      ],
      "execution_count": 0,
      "outputs": []
    },
    {
      "cell_type": "code",
      "metadata": {
        "id": "jBXL6r6QTkZp",
        "colab_type": "code",
        "outputId": "bd2f88b6-e207-4496-e25b-c756d7e7acc8",
        "colab": {
          "base_uri": "https://localhost:8080/",
          "height": 54
        }
      },
      "source": [
        "print(a)\n",
        "print(b)"
      ],
      "execution_count": 0,
      "outputs": [
        {
          "output_type": "stream",
          "text": [
            "[1, 2, 599999, 4, 5, 6, 7, 1, 5, 10]\n",
            "[10000000, 2, 599999, 4, 5, 6, 7, 1, 5, 10]\n"
          ],
          "name": "stdout"
        }
      ]
    },
    {
      "cell_type": "code",
      "metadata": {
        "id": "yi1GUApgTrSq",
        "colab_type": "code",
        "colab": {}
      },
      "source": [
        "from copy import deepcopy "
      ],
      "execution_count": 0,
      "outputs": []
    },
    {
      "cell_type": "code",
      "metadata": {
        "id": "L8uYKA25Tu-n",
        "colab_type": "code",
        "colab": {}
      },
      "source": [
        "c = deepcopy(a)"
      ],
      "execution_count": 0,
      "outputs": []
    },
    {
      "cell_type": "code",
      "metadata": {
        "id": "KeKJRnGATywI",
        "colab_type": "code",
        "colab": {}
      },
      "source": [
        "c[0] = 900000"
      ],
      "execution_count": 0,
      "outputs": []
    },
    {
      "cell_type": "code",
      "metadata": {
        "id": "3-Qz9JHHT1dV",
        "colab_type": "code",
        "outputId": "c908fac2-59fb-4d0c-b16f-9f72cb3d9ec1",
        "colab": {
          "base_uri": "https://localhost:8080/",
          "height": 54
        }
      },
      "source": [
        "print(a)\n",
        "print(c)"
      ],
      "execution_count": 0,
      "outputs": [
        {
          "output_type": "stream",
          "text": [
            "[1, 2, 599999, 4, 5, 6, 7, 1, 5, 10]\n",
            "[900000, 2, 599999, 4, 5, 6, 7, 1, 5, 10]\n"
          ],
          "name": "stdout"
        }
      ]
    },
    {
      "cell_type": "code",
      "metadata": {
        "id": "EhILvLj6T8nt",
        "colab_type": "code",
        "outputId": "0fa28ed3-6a27-4508-f2c3-732c9d8fb7e0",
        "colab": {
          "base_uri": "https://localhost:8080/",
          "height": 36
        }
      },
      "source": [
        "a = [1, 9.8, \"cagatay\", True]\n",
        "\n",
        "print(a)"
      ],
      "execution_count": 0,
      "outputs": [
        {
          "output_type": "stream",
          "text": [
            "[1, 9.8, 'cagatay', True]\n"
          ],
          "name": "stdout"
        }
      ]
    },
    {
      "cell_type": "markdown",
      "metadata": {
        "id": "yVA2JzhO_lye",
        "colab_type": "text"
      },
      "source": [
        "**Listenin elemanlarını taramak**"
      ]
    },
    {
      "cell_type": "code",
      "metadata": {
        "id": "ploqnQFKTuMy",
        "colab_type": "code",
        "outputId": "e478b2ff-0d27-417b-e98d-096f84e5defc",
        "colab": {
          "base_uri": "https://localhost:8080/",
          "height": 167
        }
      },
      "source": [
        "for el in a:\n",
        "  print(el)\n",
        "  \n",
        "for i, el in enumerate(a):\n",
        "  print(i, el)"
      ],
      "execution_count": 0,
      "outputs": [
        {
          "output_type": "stream",
          "text": [
            "1\n",
            "9.8\n",
            "cagatay\n",
            "True\n",
            "0 1\n",
            "1 9.8\n",
            "2 cagatay\n",
            "3 True\n"
          ],
          "name": "stdout"
        }
      ]
    },
    {
      "cell_type": "code",
      "metadata": {
        "id": "ARHqJzZs_oY8",
        "colab_type": "code",
        "outputId": "5b80ffe9-454f-4859-f208-d6996f359522",
        "colab": {
          "base_uri": "https://localhost:8080/",
          "height": 36
        }
      },
      "source": [
        "print(\"cagatay\" in a)"
      ],
      "execution_count": 0,
      "outputs": [
        {
          "output_type": "stream",
          "text": [
            "True\n"
          ],
          "name": "stdout"
        }
      ]
    },
    {
      "cell_type": "code",
      "metadata": {
        "id": "FQoZ0LXVVViY",
        "colab_type": "code",
        "colab": {}
      },
      "source": [
        ""
      ],
      "execution_count": 0,
      "outputs": []
    }
  ]
}