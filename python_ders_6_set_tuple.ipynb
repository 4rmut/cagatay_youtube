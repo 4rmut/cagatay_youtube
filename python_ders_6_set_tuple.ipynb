{
  "nbformat": 4,
  "nbformat_minor": 0,
  "metadata": {
    "colab": {
      "name": "python_ders_6_set_tuple.ipynb",
      "provenance": [],
      "collapsed_sections": []
    },
    "kernelspec": {
      "name": "python3",
      "display_name": "Python 3"
    }
  },
  "cells": [
    {
      "cell_type": "markdown",
      "metadata": {
        "id": "bTlBZhgCfHwH",
        "colab_type": "text"
      },
      "source": [
        "# Set\n",
        "\n",
        "\n",
        "1.   Düzensiz\n",
        "2.   Tekrarsız \n",
        "3.   Mutable (Değiştirilebilir)\n",
        "\n",
        "\n",
        "\n"
      ]
    },
    {
      "cell_type": "markdown",
      "metadata": {
        "id": "kvOSkQsv1Hb_",
        "colab_type": "text"
      },
      "source": [
        "**oluşturmak**"
      ]
    },
    {
      "cell_type": "code",
      "metadata": {
        "id": "oAzZaLk_P60x",
        "colab_type": "code",
        "colab": {}
      },
      "source": [
        " a = {1, 2, 3, 1, 1, 2, 3, 1, 1}\n",
        "\n",
        " b = set((1, 2, 3))"
      ],
      "execution_count": 0,
      "outputs": []
    },
    {
      "cell_type": "code",
      "metadata": {
        "id": "wVYE2tSYQt80",
        "colab_type": "code",
        "outputId": "992d74f5-b958-4384-bb95-56c9f7762272",
        "colab": {
          "base_uri": "https://localhost:8080/",
          "height": 73
        }
      },
      "source": [
        "print(type(a))\n",
        "print(a)\n",
        "print(type(b))"
      ],
      "execution_count": 0,
      "outputs": [
        {
          "output_type": "stream",
          "text": [
            "<class 'set'>\n",
            "{1, 2, 3}\n",
            "<class 'set'>\n"
          ],
          "name": "stdout"
        }
      ]
    },
    {
      "cell_type": "markdown",
      "metadata": {
        "id": "G_mkxkMn1K-N",
        "colab_type": "text"
      },
      "source": [
        "**add**"
      ]
    },
    {
      "cell_type": "code",
      "metadata": {
        "id": "503BzX_GRDOn",
        "colab_type": "code",
        "colab": {}
      },
      "source": [
        "a.add(\"cagatay\")"
      ],
      "execution_count": 0,
      "outputs": []
    },
    {
      "cell_type": "code",
      "metadata": {
        "id": "Xs9f8eDARHne",
        "colab_type": "code",
        "outputId": "90873ec4-9217-4eb9-9a41-fdefb57c411f",
        "colab": {
          "base_uri": "https://localhost:8080/",
          "height": 36
        }
      },
      "source": [
        "print(a)"
      ],
      "execution_count": 0,
      "outputs": [
        {
          "output_type": "stream",
          "text": [
            "{1, 2, 3, 'cagatay'}\n"
          ],
          "name": "stdout"
        }
      ]
    },
    {
      "cell_type": "code",
      "metadata": {
        "id": "SMTQ20iERKaX",
        "colab_type": "code",
        "colab": {}
      },
      "source": [
        "a.update([\"istanbul\", \"izmir\"])"
      ],
      "execution_count": 0,
      "outputs": []
    },
    {
      "cell_type": "code",
      "metadata": {
        "id": "FE5KHsdvRpNy",
        "colab_type": "code",
        "outputId": "04302363-a38a-4de1-f7f0-223c03035976",
        "colab": {
          "base_uri": "https://localhost:8080/",
          "height": 36
        }
      },
      "source": [
        "print(a)"
      ],
      "execution_count": 0,
      "outputs": [
        {
          "output_type": "stream",
          "text": [
            "{1, 2, 3, 'cagatay', 'izmir', 'istanbul'}\n"
          ],
          "name": "stdout"
        }
      ]
    },
    {
      "cell_type": "markdown",
      "metadata": {
        "id": "HHznOr921OXh",
        "colab_type": "text"
      },
      "source": [
        "**üstünde gezinmek**"
      ]
    },
    {
      "cell_type": "code",
      "metadata": {
        "id": "kUWEE5R2Ru8g",
        "colab_type": "code",
        "outputId": "af7a3713-dfbc-4d8f-f9e3-2eb0af15e4a1",
        "colab": {
          "base_uri": "https://localhost:8080/",
          "height": 129
        }
      },
      "source": [
        "for el in a:\n",
        "  print(el)"
      ],
      "execution_count": 0,
      "outputs": [
        {
          "output_type": "stream",
          "text": [
            "1\n",
            "2\n",
            "3\n",
            "cagatay\n",
            "izmir\n",
            "istanbul\n"
          ],
          "name": "stdout"
        }
      ]
    },
    {
      "cell_type": "markdown",
      "metadata": {
        "id": "pVaqMzFB1Zjg",
        "colab_type": "text"
      },
      "source": [
        "**remove**"
      ]
    },
    {
      "cell_type": "code",
      "metadata": {
        "id": "hb31p4vrR731",
        "colab_type": "code",
        "colab": {}
      },
      "source": [
        "a.remove(\"cagatay\")"
      ],
      "execution_count": 0,
      "outputs": []
    },
    {
      "cell_type": "code",
      "metadata": {
        "id": "zJSEnYgIR-q1",
        "colab_type": "code",
        "outputId": "ee4462da-6b61-4672-85ab-2f3f338210f9",
        "colab": {
          "base_uri": "https://localhost:8080/",
          "height": 36
        }
      },
      "source": [
        "print(a)"
      ],
      "execution_count": 0,
      "outputs": [
        {
          "output_type": "stream",
          "text": [
            "{1, 2, 3, 'izmir', 'istanbul'}\n"
          ],
          "name": "stdout"
        }
      ]
    },
    {
      "cell_type": "markdown",
      "metadata": {
        "id": "waYpjw6j1wdY",
        "colab_type": "text"
      },
      "source": [
        "**in**"
      ]
    },
    {
      "cell_type": "code",
      "metadata": {
        "id": "QYK4er4BSBhN",
        "colab_type": "code",
        "outputId": "5d8342b1-188e-4575-c445-0650b63a525b",
        "colab": {
          "base_uri": "https://localhost:8080/",
          "height": 54
        }
      },
      "source": [
        "if \"izmir\" in a:\n",
        "  print(\"izmir bulunuyor\")\n",
        "\n",
        "5 in a "
      ],
      "execution_count": 0,
      "outputs": [
        {
          "output_type": "stream",
          "text": [
            "izmir bulunuyor\n"
          ],
          "name": "stdout"
        },
        {
          "output_type": "execute_result",
          "data": {
            "text/plain": [
              "False"
            ]
          },
          "metadata": {
            "tags": []
          },
          "execution_count": 19
        }
      ]
    },
    {
      "cell_type": "code",
      "metadata": {
        "id": "x_OwCHfkSRT6",
        "colab_type": "code",
        "outputId": "e0eaf133-70a5-40ba-d9a6-8fd245ae3d07",
        "colab": {
          "base_uri": "https://localhost:8080/",
          "height": 36
        }
      },
      "source": [
        "len(a)"
      ],
      "execution_count": 0,
      "outputs": [
        {
          "output_type": "execute_result",
          "data": {
            "text/plain": [
              "5"
            ]
          },
          "metadata": {
            "tags": []
          },
          "execution_count": 20
        }
      ]
    },
    {
      "cell_type": "markdown",
      "metadata": {
        "id": "DBOtzj-K17Nu",
        "colab_type": "text"
      },
      "source": [
        "**birleşim, kesişim, fark**"
      ]
    },
    {
      "cell_type": "code",
      "metadata": {
        "id": "5MF4nWnySWoG",
        "colab_type": "code",
        "colab": {}
      },
      "source": [
        "a = {1, 2, 3, 4}\n",
        "b = {2, 3, 6}"
      ],
      "execution_count": 0,
      "outputs": []
    },
    {
      "cell_type": "code",
      "metadata": {
        "id": "Bup5HZujSg0v",
        "colab_type": "code",
        "outputId": "c624b2f2-6677-456d-e093-3608ccad5d72",
        "colab": {
          "base_uri": "https://localhost:8080/",
          "height": 36
        }
      },
      "source": [
        "c = a | b\n",
        "\n",
        "print(c)"
      ],
      "execution_count": 0,
      "outputs": [
        {
          "output_type": "stream",
          "text": [
            "{1, 2, 3, 4, 6}\n"
          ],
          "name": "stdout"
        }
      ]
    },
    {
      "cell_type": "code",
      "metadata": {
        "id": "ebBwavJNSrHz",
        "colab_type": "code",
        "outputId": "5bd5acb3-6ba7-49ce-8e03-b188c008aee2",
        "colab": {
          "base_uri": "https://localhost:8080/",
          "height": 36
        }
      },
      "source": [
        "c = a - b\n",
        "\n",
        "print(c)"
      ],
      "execution_count": 0,
      "outputs": [
        {
          "output_type": "stream",
          "text": [
            "{1, 4}\n"
          ],
          "name": "stdout"
        }
      ]
    },
    {
      "cell_type": "code",
      "metadata": {
        "id": "bFPRCYvCSybY",
        "colab_type": "code",
        "outputId": "39c8d3bb-e4e0-4c0d-9a6e-2cf85a2ab667",
        "colab": {
          "base_uri": "https://localhost:8080/",
          "height": 36
        }
      },
      "source": [
        "c = a & b\n",
        "\n",
        "print(c)"
      ],
      "execution_count": 0,
      "outputs": [
        {
          "output_type": "stream",
          "text": [
            "{2, 3}\n"
          ],
          "name": "stdout"
        }
      ]
    },
    {
      "cell_type": "code",
      "metadata": {
        "id": "2URqZznMS7ME",
        "colab_type": "code",
        "outputId": "a7452905-6cee-4817-dc13-c782031340c6",
        "colab": {
          "base_uri": "https://localhost:8080/",
          "height": 36
        }
      },
      "source": [
        "l = [1, 1, 3, 5, 5, 61, 1, 23]\n",
        "\n",
        "print(set(l))"
      ],
      "execution_count": 0,
      "outputs": [
        {
          "output_type": "stream",
          "text": [
            "{1, 3, 5, 23, 61}\n"
          ],
          "name": "stdout"
        }
      ]
    },
    {
      "cell_type": "markdown",
      "metadata": {
        "id": "BpkdFzLzfLSC",
        "colab_type": "text"
      },
      "source": [
        "# Tuple\n",
        "\n",
        "\n",
        "1.   Düzenli\n",
        "2.   Tekrar olabilir\n",
        "3.   Immutable (Değiştirilemez)\n",
        "\n"
      ]
    },
    {
      "cell_type": "markdown",
      "metadata": {
        "id": "g75CgTiT2ECL",
        "colab_type": "text"
      },
      "source": [
        "**oluşturma**\n",
        "\n"
      ]
    },
    {
      "cell_type": "code",
      "metadata": {
        "id": "SbSIDtf_TVcS",
        "colab_type": "code",
        "outputId": "56bc9b38-c8d9-492a-e9f7-8dd0b7a09720",
        "colab": {
          "base_uri": "https://localhost:8080/",
          "height": 36
        }
      },
      "source": [
        "a = (1, 2, 3)\n",
        "\n",
        "print(type(a))"
      ],
      "execution_count": 0,
      "outputs": [
        {
          "output_type": "stream",
          "text": [
            "<class 'tuple'>\n"
          ],
          "name": "stdout"
        }
      ]
    },
    {
      "cell_type": "markdown",
      "metadata": {
        "id": "Csku_Kds3Hg4",
        "colab_type": "text"
      },
      "source": [
        "**üstünde gezinmek**"
      ]
    },
    {
      "cell_type": "code",
      "metadata": {
        "id": "vMRRE67nTbw4",
        "colab_type": "code",
        "outputId": "4df5b9d0-f1ec-4a9b-85ac-20eae6a80a12",
        "colab": {
          "base_uri": "https://localhost:8080/",
          "height": 73
        }
      },
      "source": [
        "for el in a:\n",
        "  print(el)"
      ],
      "execution_count": 0,
      "outputs": [
        {
          "output_type": "stream",
          "text": [
            "1\n",
            "2\n",
            "3\n"
          ],
          "name": "stdout"
        }
      ]
    },
    {
      "cell_type": "code",
      "metadata": {
        "id": "gOiiSntkThQf",
        "colab_type": "code",
        "outputId": "4b6d6368-4676-4d4e-9d2c-2871fe17cae6",
        "colab": {
          "base_uri": "https://localhost:8080/",
          "height": 36
        }
      },
      "source": [
        "2 in a\n",
        "58 in a "
      ],
      "execution_count": 0,
      "outputs": [
        {
          "output_type": "execute_result",
          "data": {
            "text/plain": [
              "False"
            ]
          },
          "metadata": {
            "tags": []
          },
          "execution_count": 34
        }
      ]
    },
    {
      "cell_type": "code",
      "metadata": {
        "id": "-bA-JnW0Tn_6",
        "colab_type": "code",
        "colab": {}
      },
      "source": [
        "a = (1, \"cagatay\", 4.4)"
      ],
      "execution_count": 0,
      "outputs": []
    },
    {
      "cell_type": "markdown",
      "metadata": {
        "id": "iN_YLRVchFa7",
        "colab_type": "text"
      },
      "source": [
        "**Fonksiyondan döndürme**"
      ]
    },
    {
      "cell_type": "code",
      "metadata": {
        "id": "zDOVF86pTgdD",
        "colab_type": "code",
        "outputId": "ff86f8fe-9b9d-4387-95b7-0acadbb9c048",
        "colab": {
          "base_uri": "https://localhost:8080/",
          "height": 36
        }
      },
      "source": [
        "def fun():\n",
        "  return (1, 2, 3)\n",
        "\n",
        "c = fun()\n",
        "\n",
        "print(type(c))"
      ],
      "execution_count": 0,
      "outputs": [
        {
          "output_type": "stream",
          "text": [
            "<class 'tuple'>\n"
          ],
          "name": "stdout"
        }
      ]
    },
    {
      "cell_type": "code",
      "metadata": {
        "id": "9OFwgDBZT6Yn",
        "colab_type": "code",
        "outputId": "4a27390c-0499-4e96-cab4-ab14c0f01fd4",
        "colab": {
          "base_uri": "https://localhost:8080/",
          "height": 36
        }
      },
      "source": [
        "(a, b, c) = fun()\n",
        "\n",
        "print(c)"
      ],
      "execution_count": 0,
      "outputs": [
        {
          "output_type": "stream",
          "text": [
            "3\n"
          ],
          "name": "stdout"
        }
      ]
    },
    {
      "cell_type": "markdown",
      "metadata": {
        "id": "278sPBgD3hJn",
        "colab_type": "text"
      },
      "source": [
        "**index**"
      ]
    },
    {
      "cell_type": "code",
      "metadata": {
        "id": "UC27u7mEUQ5C",
        "colab_type": "code",
        "colab": {}
      },
      "source": [
        "c = (1, 2, 3, 4)"
      ],
      "execution_count": 0,
      "outputs": []
    },
    {
      "cell_type": "code",
      "metadata": {
        "id": "hvtZc1u8UT-r",
        "colab_type": "code",
        "outputId": "9d94fb68-8c5a-4357-bd36-bc7320136007",
        "colab": {
          "base_uri": "https://localhost:8080/",
          "height": 36
        }
      },
      "source": [
        "c[1]"
      ],
      "execution_count": 0,
      "outputs": [
        {
          "output_type": "execute_result",
          "data": {
            "text/plain": [
              "2"
            ]
          },
          "metadata": {
            "tags": []
          },
          "execution_count": 48
        }
      ]
    },
    {
      "cell_type": "code",
      "metadata": {
        "id": "GydR3b5GUVJi",
        "colab_type": "code",
        "colab": {}
      },
      "source": [
        ""
      ],
      "execution_count": 0,
      "outputs": []
    }
  ]
}