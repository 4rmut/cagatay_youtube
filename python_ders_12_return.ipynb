{
  "nbformat": 4,
  "nbformat_minor": 0,
  "metadata": {
    "colab": {
      "name": "python_ders_12_return.ipynb",
      "provenance": [],
      "collapsed_sections": []
    },
    "kernelspec": {
      "name": "python3",
      "display_name": "Python 3"
    }
  },
  "cells": [
    {
      "cell_type": "markdown",
      "metadata": {
        "id": "Ro5oRBZgdhbU",
        "colab_type": "text"
      },
      "source": [
        "# return Anahtar Sözcüğü\n",
        "\n",
        "Kabaca fonksiyonun o noktada durduran ve önündeki değeri dışarıya döndüren anahtar sözcüktür. "
      ]
    },
    {
      "cell_type": "code",
      "metadata": {
        "id": "PKNTQ6laevFp",
        "colab_type": "code",
        "outputId": "d91db9a1-b61e-434b-c366-2c45012a770f",
        "colab": {
          "base_uri": "https://localhost:8080/",
          "height": 136
        }
      },
      "source": [
        "#@title Fonksiyon dışında kullanılamaz.\n",
        "\n",
        "return "
      ],
      "execution_count": 0,
      "outputs": [
        {
          "output_type": "error",
          "ename": "SyntaxError",
          "evalue": "ignored",
          "traceback": [
            "\u001b[0;36m  File \u001b[0;32m\"<ipython-input-18-97b04db0836a>\"\u001b[0;36m, line \u001b[0;32m2\u001b[0m\n\u001b[0;31m    return\u001b[0m\n\u001b[0m           ^\u001b[0m\n\u001b[0;31mSyntaxError\u001b[0m\u001b[0;31m:\u001b[0m 'return' outside function\n"
          ]
        }
      ]
    },
    {
      "cell_type": "code",
      "metadata": {
        "id": "kn7xutzmfC0i",
        "colab_type": "code",
        "outputId": "6eb95766-0373-4e2a-ae2a-e672df4c9115",
        "colab": {
          "base_uri": "https://localhost:8080/",
          "height": 36
        }
      },
      "source": [
        "#@title Basit kullanımı\n",
        "def deneme():\n",
        "  return 1\n",
        "\n",
        "print(deneme())"
      ],
      "execution_count": 0,
      "outputs": [
        {
          "output_type": "stream",
          "text": [
            "1\n"
          ],
          "name": "stdout"
        }
      ]
    },
    {
      "cell_type": "code",
      "metadata": {
        "id": "s2rXkGiCfVwZ",
        "colab_type": "code",
        "outputId": "4b321431-0503-4f7c-c87c-27962e1e1922",
        "colab": {
          "base_uri": "https://localhost:8080/",
          "height": 36
        }
      },
      "source": [
        "#@title Önündeki değeri fonksiyonun dışına döndürür\n",
        "def deneme():\n",
        "  return 'cagatay'\n",
        "\n",
        "\n",
        "deger = deneme()\n",
        "\n",
        "print(deger)"
      ],
      "execution_count": 0,
      "outputs": [
        {
          "output_type": "stream",
          "text": [
            "cagatay\n"
          ],
          "name": "stdout"
        }
      ]
    },
    {
      "cell_type": "code",
      "metadata": {
        "id": "v97XmU_ffw_c",
        "colab_type": "code",
        "outputId": "12b72c3a-9fd7-4c12-b59e-bc08728290ae",
        "colab": {
          "base_uri": "https://localhost:8080/",
          "height": 36
        }
      },
      "source": [
        "#@title Kullanıldığı satırda fonksiyon biter, sonra yazılanlar anlamsızdır\n",
        "def deneme():\n",
        "  a = 5 \n",
        "  return a\n",
        "  a = 456\n",
        "\n",
        "print(deneme())\n"
      ],
      "execution_count": 0,
      "outputs": [
        {
          "output_type": "stream",
          "text": [
            "5\n"
          ],
          "name": "stdout"
        }
      ]
    },
    {
      "cell_type": "code",
      "metadata": {
        "id": "c1gDX_qDgJnZ",
        "colab_type": "code",
        "outputId": "71ad3139-e1e1-4e0e-c781-eb0d44c71200",
        "colab": {
          "base_uri": "https://localhost:8080/",
          "height": 36
        }
      },
      "source": [
        "#@title Önünde değer yerine işlem varsa, bu işlemin gerçekleşmesini bekler ve sonucunu döndürür\n",
        "def deneme():\n",
        "  return (1 + 4 + 9)*0 > 1 and True\n",
        "\n",
        "print(deneme())"
      ],
      "execution_count": 0,
      "outputs": [
        {
          "output_type": "stream",
          "text": [
            "False\n"
          ],
          "name": "stdout"
        }
      ]
    },
    {
      "cell_type": "code",
      "metadata": {
        "id": "ykKWPtPNiLLZ",
        "colab_type": "code",
        "outputId": "801387f1-b2ef-447e-9901-147622d17056",
        "colab": {
          "base_uri": "https://localhost:8080/",
          "height": 36
        }
      },
      "source": [
        "#@title Önünde hiçbir şey yoksa None döndürür\n",
        "def deneme():\n",
        "  return \n",
        "\n",
        "print(deneme())"
      ],
      "execution_count": 0,
      "outputs": [
        {
          "output_type": "stream",
          "text": [
            "None\n"
          ],
          "name": "stdout"
        }
      ]
    },
    {
      "cell_type": "markdown",
      "metadata": {
        "id": "GgrMiEnEgfKG",
        "colab_type": "text"
      },
      "source": [
        "**Python oldukça esnektir, yalnızca değer döndürmek zorunda değilsiniz.**"
      ]
    },
    {
      "cell_type": "code",
      "metadata": {
        "id": "iGnJpusOgtgu",
        "colab_type": "code",
        "outputId": "3cdc5eef-b596-41e0-ec2d-e8d1b974fbc4",
        "colab": {
          "base_uri": "https://localhost:8080/",
          "height": 36
        }
      },
      "source": [
        "def deneme():\n",
        "  return 1, 2, 'cagatay'\n",
        "\n",
        "print(deneme())"
      ],
      "execution_count": 0,
      "outputs": [
        {
          "output_type": "stream",
          "text": [
            "(1, 2, 'cagatay')\n"
          ],
          "name": "stdout"
        }
      ]
    },
    {
      "cell_type": "code",
      "metadata": {
        "id": "WpSQdCKi2Bsb",
        "colab_type": "code",
        "outputId": "3c0a7ba2-c197-4faa-b156-dbe5322f9e58",
        "colab": {
          "base_uri": "https://localhost:8080/",
          "height": 36
        }
      },
      "source": [
        "def deneme(a):\n",
        "  if a:\n",
        "    return 'cagatay'\n",
        "  else:\n",
        "    return 1.4\n",
        "\n",
        "print(deneme(False))"
      ],
      "execution_count": 0,
      "outputs": [
        {
          "output_type": "stream",
          "text": [
            "1.4\n"
          ],
          "name": "stdout"
        }
      ]
    },
    {
      "cell_type": "code",
      "metadata": {
        "id": "jododA_3g0N_",
        "colab_type": "code",
        "outputId": "fc605d9b-c3a1-431e-9640-ad71ad74ce76",
        "colab": {
          "base_uri": "https://localhost:8080/",
          "height": 36
        }
      },
      "source": [
        "def deneme():\n",
        "  a = {'a': 1,\n",
        "       'b': None,\n",
        "       'c': 3.2}\n",
        "\n",
        "  return a\n",
        "\n",
        "print(deneme())"
      ],
      "execution_count": 0,
      "outputs": [
        {
          "output_type": "stream",
          "text": [
            "{'a': 1, 'b': None, 'c': 3.2}\n"
          ],
          "name": "stdout"
        }
      ]
    },
    {
      "cell_type": "code",
      "metadata": {
        "id": "tmiTcuZ1hFtD",
        "colab_type": "code",
        "outputId": "bf134d7d-e0b8-43a1-ba1c-db4e1a2f2f4d",
        "colab": {
          "base_uri": "https://localhost:8080/",
          "height": 36
        }
      },
      "source": [
        "class A:\n",
        "  def __init__(self):\n",
        "    self.ad = 'cagatay' \n",
        "\n",
        "def deneme():\n",
        "  obje = A()\n",
        "  return obje\n",
        "\n",
        "disaridaki_obje = deneme()\n",
        "\n",
        "print(disaridaki_obje.ad)"
      ],
      "execution_count": 0,
      "outputs": [
        {
          "output_type": "stream",
          "text": [
            "cagatay\n"
          ],
          "name": "stdout"
        }
      ]
    },
    {
      "cell_type": "code",
      "metadata": {
        "id": "lauoTmtdiEBO",
        "colab_type": "code",
        "cellView": "both",
        "outputId": "683957fa-7186-454b-e552-0bcbc4532432",
        "colab": {
          "base_uri": "https://localhost:8080/",
          "height": 54
        }
      },
      "source": [
        "def baska():\n",
        "  def deneme():\n",
        "      print('deneme')\n",
        "\n",
        "  return deneme\n",
        "\n",
        "cikti = baska()\n",
        "\n",
        "print(cikti())"
      ],
      "execution_count": 0,
      "outputs": [
        {
          "output_type": "stream",
          "text": [
            "deneme\n",
            "None\n"
          ],
          "name": "stdout"
        }
      ]
    }
  ]
}